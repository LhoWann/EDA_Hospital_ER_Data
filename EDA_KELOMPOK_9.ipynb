{
  "nbformat": 4,
  "nbformat_minor": 0,
  "metadata": {
    "colab": {
      "provenance": []
    },
    "kernelspec": {
      "name": "python3",
      "display_name": "Python 3"
    },
    "language_info": {
      "name": "python"
    }
  },
  "cells": [
    {
      "cell_type": "markdown",
      "source": [
        "# KELOMPOK 9\n",
        "1. Muhammad Ridwan\n",
        "2. Devika Widya Vania\n",
        "3. Nashwa Aqeel\n",
        "4. Achmad Sabila Rusdi"
      ],
      "metadata": {
        "id": "W_BzKJS7u3Uy"
      }
    },
    {
      "cell_type": "markdown",
      "source": [
        "## **SUMBER DATA = https://www.kaggle.com/datasets/xavierberge/hospital-emergency-dataset**"
      ],
      "metadata": {
        "id": "oKq8GJQk9ZwK"
      }
    },
    {
      "cell_type": "markdown",
      "source": [
        "# **1. LOAD DATA**"
      ],
      "metadata": {
        "id": "rOoOniBswIqq"
      }
    },
    {
      "cell_type": "code",
      "execution_count": 33,
      "metadata": {
        "id": "O5cl_v-Auy1W"
      },
      "outputs": [],
      "source": [
        "# Import Packages\n",
        "import pandas as pd\n",
        "from datetime import datetime as dt\n",
        "import seaborn as sns\n",
        "import matplotlib.pyplot as plt\n",
        "import numpy as np"
      ]
    },
    {
      "cell_type": "code",
      "source": [
        "df = pd.read_csv(\"Hospital ER_Data.csv\")"
      ],
      "metadata": {
        "id": "mUPb-hxtwmua"
      },
      "execution_count": 34,
      "outputs": []
    },
    {
      "cell_type": "markdown",
      "source": [
        "# **2. Basic Information about the Dataset**"
      ],
      "metadata": {
        "id": "EX0J-ccYwzqa"
      }
    },
    {
      "cell_type": "code",
      "source": [
        "# baca kolom pada data\n",
        "df.columns"
      ],
      "metadata": {
        "colab": {
          "base_uri": "https://localhost:8080/"
        },
        "id": "qavexvPMwwZq",
        "outputId": "6cd343af-cb57-4b3e-fe47-dcf1b077d009"
      },
      "execution_count": 35,
      "outputs": [
        {
          "output_type": "execute_result",
          "data": {
            "text/plain": [
              "Index(['Patient Id', 'Patient Admission Date', 'Patient First Inital',\n",
              "       'Patient Last Name', 'Patient Gender', 'Patient Age', 'Patient Race',\n",
              "       'Department Referral', 'Patient Admission Flag',\n",
              "       'Patient Satisfaction Score', 'Patient Waittime', 'Patients CM'],\n",
              "      dtype='object')"
            ]
          },
          "metadata": {},
          "execution_count": 35
        }
      ]
    },
    {
      "cell_type": "code",
      "source": [
        "df.info()"
      ],
      "metadata": {
        "colab": {
          "base_uri": "https://localhost:8080/"
        },
        "id": "j9oA4kyUxCra",
        "outputId": "770a454f-ef30-4ae0-b60e-9429c9accb48"
      },
      "execution_count": 36,
      "outputs": [
        {
          "output_type": "stream",
          "name": "stdout",
          "text": [
            "<class 'pandas.core.frame.DataFrame'>\n",
            "RangeIndex: 9216 entries, 0 to 9215\n",
            "Data columns (total 12 columns):\n",
            " #   Column                      Non-Null Count  Dtype  \n",
            "---  ------                      --------------  -----  \n",
            " 0   Patient Id                  9216 non-null   object \n",
            " 1   Patient Admission Date      9216 non-null   object \n",
            " 2   Patient First Inital        9216 non-null   object \n",
            " 3   Patient Last Name           9216 non-null   object \n",
            " 4   Patient Gender              9216 non-null   object \n",
            " 5   Patient Age                 9216 non-null   int64  \n",
            " 6   Patient Race                9216 non-null   object \n",
            " 7   Department Referral         3816 non-null   object \n",
            " 8   Patient Admission Flag      9216 non-null   bool   \n",
            " 9   Patient Satisfaction Score  2517 non-null   float64\n",
            " 10  Patient Waittime            9216 non-null   int64  \n",
            " 11  Patients CM                 9216 non-null   int64  \n",
            "dtypes: bool(1), float64(1), int64(3), object(7)\n",
            "memory usage: 801.1+ KB\n"
          ]
        }
      ]
    },
    {
      "cell_type": "code",
      "source": [
        "df.head()"
      ],
      "metadata": {
        "colab": {
          "base_uri": "https://localhost:8080/",
          "height": 362
        },
        "id": "GJlPhl4ZxIHZ",
        "outputId": "9ca6f8fe-8a3b-49ec-c8bd-2f225a473668"
      },
      "execution_count": 37,
      "outputs": [
        {
          "output_type": "execute_result",
          "data": {
            "text/plain": [
              "    Patient Id Patient Admission Date Patient First Inital Patient Last Name  \\\n",
              "0  145-39-5406       20-03-2024 08:47                    H         Glasspool   \n",
              "1  316-34-3057       15-06-2024 11:29                    X           Methuen   \n",
              "2  897-46-3852       20-06-2024 09:13                    P         Schubuser   \n",
              "3  358-31-9711       04-02-2024 22:34                    U          Titcombe   \n",
              "4  289-26-0537       04-09-2024 17:48                    Y       Gionettitti   \n",
              "\n",
              "  Patient Gender  Patient Age                   Patient Race  \\\n",
              "0              M           69                          White   \n",
              "1              M            4  Native American/Alaska Native   \n",
              "2              F           56               African American   \n",
              "3              F           24  Native American/Alaska Native   \n",
              "4              M            5               African American   \n",
              "\n",
              "  Department Referral  Patient Admission Flag  Patient Satisfaction Score  \\\n",
              "0                 NaN                   False                        10.0   \n",
              "1                 NaN                    True                         NaN   \n",
              "2    General Practice                    True                         9.0   \n",
              "3    General Practice                    True                         8.0   \n",
              "4         Orthopedics                   False                         NaN   \n",
              "\n",
              "   Patient Waittime  Patients CM  \n",
              "0                39            0  \n",
              "1                27            0  \n",
              "2                55            0  \n",
              "3                31            0  \n",
              "4                10            0  "
            ],
            "text/html": [
              "\n",
              "  <div id=\"df-7af63320-6e35-452e-ac66-ffb789ff607e\" class=\"colab-df-container\">\n",
              "    <div>\n",
              "<style scoped>\n",
              "    .dataframe tbody tr th:only-of-type {\n",
              "        vertical-align: middle;\n",
              "    }\n",
              "\n",
              "    .dataframe tbody tr th {\n",
              "        vertical-align: top;\n",
              "    }\n",
              "\n",
              "    .dataframe thead th {\n",
              "        text-align: right;\n",
              "    }\n",
              "</style>\n",
              "<table border=\"1\" class=\"dataframe\">\n",
              "  <thead>\n",
              "    <tr style=\"text-align: right;\">\n",
              "      <th></th>\n",
              "      <th>Patient Id</th>\n",
              "      <th>Patient Admission Date</th>\n",
              "      <th>Patient First Inital</th>\n",
              "      <th>Patient Last Name</th>\n",
              "      <th>Patient Gender</th>\n",
              "      <th>Patient Age</th>\n",
              "      <th>Patient Race</th>\n",
              "      <th>Department Referral</th>\n",
              "      <th>Patient Admission Flag</th>\n",
              "      <th>Patient Satisfaction Score</th>\n",
              "      <th>Patient Waittime</th>\n",
              "      <th>Patients CM</th>\n",
              "    </tr>\n",
              "  </thead>\n",
              "  <tbody>\n",
              "    <tr>\n",
              "      <th>0</th>\n",
              "      <td>145-39-5406</td>\n",
              "      <td>20-03-2024 08:47</td>\n",
              "      <td>H</td>\n",
              "      <td>Glasspool</td>\n",
              "      <td>M</td>\n",
              "      <td>69</td>\n",
              "      <td>White</td>\n",
              "      <td>NaN</td>\n",
              "      <td>False</td>\n",
              "      <td>10.0</td>\n",
              "      <td>39</td>\n",
              "      <td>0</td>\n",
              "    </tr>\n",
              "    <tr>\n",
              "      <th>1</th>\n",
              "      <td>316-34-3057</td>\n",
              "      <td>15-06-2024 11:29</td>\n",
              "      <td>X</td>\n",
              "      <td>Methuen</td>\n",
              "      <td>M</td>\n",
              "      <td>4</td>\n",
              "      <td>Native American/Alaska Native</td>\n",
              "      <td>NaN</td>\n",
              "      <td>True</td>\n",
              "      <td>NaN</td>\n",
              "      <td>27</td>\n",
              "      <td>0</td>\n",
              "    </tr>\n",
              "    <tr>\n",
              "      <th>2</th>\n",
              "      <td>897-46-3852</td>\n",
              "      <td>20-06-2024 09:13</td>\n",
              "      <td>P</td>\n",
              "      <td>Schubuser</td>\n",
              "      <td>F</td>\n",
              "      <td>56</td>\n",
              "      <td>African American</td>\n",
              "      <td>General Practice</td>\n",
              "      <td>True</td>\n",
              "      <td>9.0</td>\n",
              "      <td>55</td>\n",
              "      <td>0</td>\n",
              "    </tr>\n",
              "    <tr>\n",
              "      <th>3</th>\n",
              "      <td>358-31-9711</td>\n",
              "      <td>04-02-2024 22:34</td>\n",
              "      <td>U</td>\n",
              "      <td>Titcombe</td>\n",
              "      <td>F</td>\n",
              "      <td>24</td>\n",
              "      <td>Native American/Alaska Native</td>\n",
              "      <td>General Practice</td>\n",
              "      <td>True</td>\n",
              "      <td>8.0</td>\n",
              "      <td>31</td>\n",
              "      <td>0</td>\n",
              "    </tr>\n",
              "    <tr>\n",
              "      <th>4</th>\n",
              "      <td>289-26-0537</td>\n",
              "      <td>04-09-2024 17:48</td>\n",
              "      <td>Y</td>\n",
              "      <td>Gionettitti</td>\n",
              "      <td>M</td>\n",
              "      <td>5</td>\n",
              "      <td>African American</td>\n",
              "      <td>Orthopedics</td>\n",
              "      <td>False</td>\n",
              "      <td>NaN</td>\n",
              "      <td>10</td>\n",
              "      <td>0</td>\n",
              "    </tr>\n",
              "  </tbody>\n",
              "</table>\n",
              "</div>\n",
              "    <div class=\"colab-df-buttons\">\n",
              "\n",
              "  <div class=\"colab-df-container\">\n",
              "    <button class=\"colab-df-convert\" onclick=\"convertToInteractive('df-7af63320-6e35-452e-ac66-ffb789ff607e')\"\n",
              "            title=\"Convert this dataframe to an interactive table.\"\n",
              "            style=\"display:none;\">\n",
              "\n",
              "  <svg xmlns=\"http://www.w3.org/2000/svg\" height=\"24px\" viewBox=\"0 -960 960 960\">\n",
              "    <path d=\"M120-120v-720h720v720H120Zm60-500h600v-160H180v160Zm220 220h160v-160H400v160Zm0 220h160v-160H400v160ZM180-400h160v-160H180v160Zm440 0h160v-160H620v160ZM180-180h160v-160H180v160Zm440 0h160v-160H620v160Z\"/>\n",
              "  </svg>\n",
              "    </button>\n",
              "\n",
              "  <style>\n",
              "    .colab-df-container {\n",
              "      display:flex;\n",
              "      gap: 12px;\n",
              "    }\n",
              "\n",
              "    .colab-df-convert {\n",
              "      background-color: #E8F0FE;\n",
              "      border: none;\n",
              "      border-radius: 50%;\n",
              "      cursor: pointer;\n",
              "      display: none;\n",
              "      fill: #1967D2;\n",
              "      height: 32px;\n",
              "      padding: 0 0 0 0;\n",
              "      width: 32px;\n",
              "    }\n",
              "\n",
              "    .colab-df-convert:hover {\n",
              "      background-color: #E2EBFA;\n",
              "      box-shadow: 0px 1px 2px rgba(60, 64, 67, 0.3), 0px 1px 3px 1px rgba(60, 64, 67, 0.15);\n",
              "      fill: #174EA6;\n",
              "    }\n",
              "\n",
              "    .colab-df-buttons div {\n",
              "      margin-bottom: 4px;\n",
              "    }\n",
              "\n",
              "    [theme=dark] .colab-df-convert {\n",
              "      background-color: #3B4455;\n",
              "      fill: #D2E3FC;\n",
              "    }\n",
              "\n",
              "    [theme=dark] .colab-df-convert:hover {\n",
              "      background-color: #434B5C;\n",
              "      box-shadow: 0px 1px 3px 1px rgba(0, 0, 0, 0.15);\n",
              "      filter: drop-shadow(0px 1px 2px rgba(0, 0, 0, 0.3));\n",
              "      fill: #FFFFFF;\n",
              "    }\n",
              "  </style>\n",
              "\n",
              "    <script>\n",
              "      const buttonEl =\n",
              "        document.querySelector('#df-7af63320-6e35-452e-ac66-ffb789ff607e button.colab-df-convert');\n",
              "      buttonEl.style.display =\n",
              "        google.colab.kernel.accessAllowed ? 'block' : 'none';\n",
              "\n",
              "      async function convertToInteractive(key) {\n",
              "        const element = document.querySelector('#df-7af63320-6e35-452e-ac66-ffb789ff607e');\n",
              "        const dataTable =\n",
              "          await google.colab.kernel.invokeFunction('convertToInteractive',\n",
              "                                                    [key], {});\n",
              "        if (!dataTable) return;\n",
              "\n",
              "        const docLinkHtml = 'Like what you see? Visit the ' +\n",
              "          '<a target=\"_blank\" href=https://colab.research.google.com/notebooks/data_table.ipynb>data table notebook</a>'\n",
              "          + ' to learn more about interactive tables.';\n",
              "        element.innerHTML = '';\n",
              "        dataTable['output_type'] = 'display_data';\n",
              "        await google.colab.output.renderOutput(dataTable, element);\n",
              "        const docLink = document.createElement('div');\n",
              "        docLink.innerHTML = docLinkHtml;\n",
              "        element.appendChild(docLink);\n",
              "      }\n",
              "    </script>\n",
              "  </div>\n",
              "\n",
              "\n",
              "    <div id=\"df-f9cc35ab-f2d3-4451-8c37-b231149c9147\">\n",
              "      <button class=\"colab-df-quickchart\" onclick=\"quickchart('df-f9cc35ab-f2d3-4451-8c37-b231149c9147')\"\n",
              "                title=\"Suggest charts\"\n",
              "                style=\"display:none;\">\n",
              "\n",
              "<svg xmlns=\"http://www.w3.org/2000/svg\" height=\"24px\"viewBox=\"0 0 24 24\"\n",
              "     width=\"24px\">\n",
              "    <g>\n",
              "        <path d=\"M19 3H5c-1.1 0-2 .9-2 2v14c0 1.1.9 2 2 2h14c1.1 0 2-.9 2-2V5c0-1.1-.9-2-2-2zM9 17H7v-7h2v7zm4 0h-2V7h2v10zm4 0h-2v-4h2v4z\"/>\n",
              "    </g>\n",
              "</svg>\n",
              "      </button>\n",
              "\n",
              "<style>\n",
              "  .colab-df-quickchart {\n",
              "      --bg-color: #E8F0FE;\n",
              "      --fill-color: #1967D2;\n",
              "      --hover-bg-color: #E2EBFA;\n",
              "      --hover-fill-color: #174EA6;\n",
              "      --disabled-fill-color: #AAA;\n",
              "      --disabled-bg-color: #DDD;\n",
              "  }\n",
              "\n",
              "  [theme=dark] .colab-df-quickchart {\n",
              "      --bg-color: #3B4455;\n",
              "      --fill-color: #D2E3FC;\n",
              "      --hover-bg-color: #434B5C;\n",
              "      --hover-fill-color: #FFFFFF;\n",
              "      --disabled-bg-color: #3B4455;\n",
              "      --disabled-fill-color: #666;\n",
              "  }\n",
              "\n",
              "  .colab-df-quickchart {\n",
              "    background-color: var(--bg-color);\n",
              "    border: none;\n",
              "    border-radius: 50%;\n",
              "    cursor: pointer;\n",
              "    display: none;\n",
              "    fill: var(--fill-color);\n",
              "    height: 32px;\n",
              "    padding: 0;\n",
              "    width: 32px;\n",
              "  }\n",
              "\n",
              "  .colab-df-quickchart:hover {\n",
              "    background-color: var(--hover-bg-color);\n",
              "    box-shadow: 0 1px 2px rgba(60, 64, 67, 0.3), 0 1px 3px 1px rgba(60, 64, 67, 0.15);\n",
              "    fill: var(--button-hover-fill-color);\n",
              "  }\n",
              "\n",
              "  .colab-df-quickchart-complete:disabled,\n",
              "  .colab-df-quickchart-complete:disabled:hover {\n",
              "    background-color: var(--disabled-bg-color);\n",
              "    fill: var(--disabled-fill-color);\n",
              "    box-shadow: none;\n",
              "  }\n",
              "\n",
              "  .colab-df-spinner {\n",
              "    border: 2px solid var(--fill-color);\n",
              "    border-color: transparent;\n",
              "    border-bottom-color: var(--fill-color);\n",
              "    animation:\n",
              "      spin 1s steps(1) infinite;\n",
              "  }\n",
              "\n",
              "  @keyframes spin {\n",
              "    0% {\n",
              "      border-color: transparent;\n",
              "      border-bottom-color: var(--fill-color);\n",
              "      border-left-color: var(--fill-color);\n",
              "    }\n",
              "    20% {\n",
              "      border-color: transparent;\n",
              "      border-left-color: var(--fill-color);\n",
              "      border-top-color: var(--fill-color);\n",
              "    }\n",
              "    30% {\n",
              "      border-color: transparent;\n",
              "      border-left-color: var(--fill-color);\n",
              "      border-top-color: var(--fill-color);\n",
              "      border-right-color: var(--fill-color);\n",
              "    }\n",
              "    40% {\n",
              "      border-color: transparent;\n",
              "      border-right-color: var(--fill-color);\n",
              "      border-top-color: var(--fill-color);\n",
              "    }\n",
              "    60% {\n",
              "      border-color: transparent;\n",
              "      border-right-color: var(--fill-color);\n",
              "    }\n",
              "    80% {\n",
              "      border-color: transparent;\n",
              "      border-right-color: var(--fill-color);\n",
              "      border-bottom-color: var(--fill-color);\n",
              "    }\n",
              "    90% {\n",
              "      border-color: transparent;\n",
              "      border-bottom-color: var(--fill-color);\n",
              "    }\n",
              "  }\n",
              "</style>\n",
              "\n",
              "      <script>\n",
              "        async function quickchart(key) {\n",
              "          const quickchartButtonEl =\n",
              "            document.querySelector('#' + key + ' button');\n",
              "          quickchartButtonEl.disabled = true;  // To prevent multiple clicks.\n",
              "          quickchartButtonEl.classList.add('colab-df-spinner');\n",
              "          try {\n",
              "            const charts = await google.colab.kernel.invokeFunction(\n",
              "                'suggestCharts', [key], {});\n",
              "          } catch (error) {\n",
              "            console.error('Error during call to suggestCharts:', error);\n",
              "          }\n",
              "          quickchartButtonEl.classList.remove('colab-df-spinner');\n",
              "          quickchartButtonEl.classList.add('colab-df-quickchart-complete');\n",
              "        }\n",
              "        (() => {\n",
              "          let quickchartButtonEl =\n",
              "            document.querySelector('#df-f9cc35ab-f2d3-4451-8c37-b231149c9147 button');\n",
              "          quickchartButtonEl.style.display =\n",
              "            google.colab.kernel.accessAllowed ? 'block' : 'none';\n",
              "        })();\n",
              "      </script>\n",
              "    </div>\n",
              "\n",
              "    </div>\n",
              "  </div>\n"
            ],
            "application/vnd.google.colaboratory.intrinsic+json": {
              "type": "dataframe",
              "variable_name": "df",
              "summary": "{\n  \"name\": \"df\",\n  \"rows\": 9216,\n  \"fields\": [\n    {\n      \"column\": \"Patient Id\",\n      \"properties\": {\n        \"dtype\": \"string\",\n        \"num_unique_values\": 9216,\n        \"samples\": [\n          \"195-51-1109\",\n          \"174-52-2854\",\n          \"468-16-2640\"\n        ],\n        \"semantic_type\": \"\",\n        \"description\": \"\"\n      }\n    },\n    {\n      \"column\": \"Patient Admission Date\",\n      \"properties\": {\n        \"dtype\": \"object\",\n        \"num_unique_values\": 9176,\n        \"samples\": [\n          \"24-03-2024 11:55\",\n          \"26-04-2024 07:46\",\n          \"10-01-2024 16:25\"\n        ],\n        \"semantic_type\": \"\",\n        \"description\": \"\"\n      }\n    },\n    {\n      \"column\": \"Patient First Inital\",\n      \"properties\": {\n        \"dtype\": \"category\",\n        \"num_unique_values\": 26,\n        \"samples\": [\n          \"M\",\n          \"W\",\n          \"H\"\n        ],\n        \"semantic_type\": \"\",\n        \"description\": \"\"\n      }\n    },\n    {\n      \"column\": \"Patient Last Name\",\n      \"properties\": {\n        \"dtype\": \"string\",\n        \"num_unique_values\": 8400,\n        \"samples\": [\n          \"Vannacci\",\n          \"Eckford\",\n          \"Hamments\"\n        ],\n        \"semantic_type\": \"\",\n        \"description\": \"\"\n      }\n    },\n    {\n      \"column\": \"Patient Gender\",\n      \"properties\": {\n        \"dtype\": \"category\",\n        \"num_unique_values\": 3,\n        \"samples\": [\n          \"M\",\n          \"F\",\n          \"NC\"\n        ],\n        \"semantic_type\": \"\",\n        \"description\": \"\"\n      }\n    },\n    {\n      \"column\": \"Patient Age\",\n      \"properties\": {\n        \"dtype\": \"number\",\n        \"std\": 22,\n        \"min\": 1,\n        \"max\": 79,\n        \"num_unique_values\": 79,\n        \"samples\": [\n          41,\n          69,\n          22\n        ],\n        \"semantic_type\": \"\",\n        \"description\": \"\"\n      }\n    },\n    {\n      \"column\": \"Patient Race\",\n      \"properties\": {\n        \"dtype\": \"category\",\n        \"num_unique_values\": 7,\n        \"samples\": [\n          \"White\",\n          \"Native American/Alaska Native\",\n          \"Pacific Islander\"\n        ],\n        \"semantic_type\": \"\",\n        \"description\": \"\"\n      }\n    },\n    {\n      \"column\": \"Department Referral\",\n      \"properties\": {\n        \"dtype\": \"category\",\n        \"num_unique_values\": 7,\n        \"samples\": [\n          \"General Practice\",\n          \"Orthopedics\",\n          \"Cardiology\"\n        ],\n        \"semantic_type\": \"\",\n        \"description\": \"\"\n      }\n    },\n    {\n      \"column\": \"Patient Admission Flag\",\n      \"properties\": {\n        \"dtype\": \"boolean\",\n        \"num_unique_values\": 2,\n        \"samples\": [\n          true,\n          false\n        ],\n        \"semantic_type\": \"\",\n        \"description\": \"\"\n      }\n    },\n    {\n      \"column\": \"Patient Satisfaction Score\",\n      \"properties\": {\n        \"dtype\": \"number\",\n        \"std\": 3.1380429609966356,\n        \"min\": 0.0,\n        \"max\": 10.0,\n        \"num_unique_values\": 11,\n        \"samples\": [\n          4.0,\n          10.0\n        ],\n        \"semantic_type\": \"\",\n        \"description\": \"\"\n      }\n    },\n    {\n      \"column\": \"Patient Waittime\",\n      \"properties\": {\n        \"dtype\": \"number\",\n        \"std\": 14,\n        \"min\": 10,\n        \"max\": 60,\n        \"num_unique_values\": 51,\n        \"samples\": [\n          47,\n          38\n        ],\n        \"semantic_type\": \"\",\n        \"description\": \"\"\n      }\n    },\n    {\n      \"column\": \"Patients CM\",\n      \"properties\": {\n        \"dtype\": \"number\",\n        \"std\": 0,\n        \"min\": 0,\n        \"max\": 1,\n        \"num_unique_values\": 2,\n        \"samples\": [\n          1,\n          0\n        ],\n        \"semantic_type\": \"\",\n        \"description\": \"\"\n      }\n    }\n  ]\n}"
            }
          },
          "metadata": {},
          "execution_count": 37
        }
      ]
    },
    {
      "cell_type": "code",
      "source": [
        "df.describe()"
      ],
      "metadata": {
        "colab": {
          "base_uri": "https://localhost:8080/",
          "height": 300
        },
        "id": "MBShA38Yxf85",
        "outputId": "26c7ca6f-9368-4d64-f580-21d381a6105d"
      },
      "execution_count": 38,
      "outputs": [
        {
          "output_type": "execute_result",
          "data": {
            "text/plain": [
              "       Patient Age  Patient Satisfaction Score  Patient Waittime  Patients CM\n",
              "count  9216.000000                 2517.000000       9216.000000  9216.000000\n",
              "mean     39.855143                    4.992054         35.259874     0.052083\n",
              "std      22.755125                    3.138043         14.735323     0.222207\n",
              "min       1.000000                    0.000000         10.000000     0.000000\n",
              "25%      20.000000                    2.000000         23.000000     0.000000\n",
              "50%      39.000000                    5.000000         35.000000     0.000000\n",
              "75%      60.000000                    8.000000         48.000000     0.000000\n",
              "max      79.000000                   10.000000         60.000000     1.000000"
            ],
            "text/html": [
              "\n",
              "  <div id=\"df-ea728b1c-1fef-442e-9826-38733239b58e\" class=\"colab-df-container\">\n",
              "    <div>\n",
              "<style scoped>\n",
              "    .dataframe tbody tr th:only-of-type {\n",
              "        vertical-align: middle;\n",
              "    }\n",
              "\n",
              "    .dataframe tbody tr th {\n",
              "        vertical-align: top;\n",
              "    }\n",
              "\n",
              "    .dataframe thead th {\n",
              "        text-align: right;\n",
              "    }\n",
              "</style>\n",
              "<table border=\"1\" class=\"dataframe\">\n",
              "  <thead>\n",
              "    <tr style=\"text-align: right;\">\n",
              "      <th></th>\n",
              "      <th>Patient Age</th>\n",
              "      <th>Patient Satisfaction Score</th>\n",
              "      <th>Patient Waittime</th>\n",
              "      <th>Patients CM</th>\n",
              "    </tr>\n",
              "  </thead>\n",
              "  <tbody>\n",
              "    <tr>\n",
              "      <th>count</th>\n",
              "      <td>9216.000000</td>\n",
              "      <td>2517.000000</td>\n",
              "      <td>9216.000000</td>\n",
              "      <td>9216.000000</td>\n",
              "    </tr>\n",
              "    <tr>\n",
              "      <th>mean</th>\n",
              "      <td>39.855143</td>\n",
              "      <td>4.992054</td>\n",
              "      <td>35.259874</td>\n",
              "      <td>0.052083</td>\n",
              "    </tr>\n",
              "    <tr>\n",
              "      <th>std</th>\n",
              "      <td>22.755125</td>\n",
              "      <td>3.138043</td>\n",
              "      <td>14.735323</td>\n",
              "      <td>0.222207</td>\n",
              "    </tr>\n",
              "    <tr>\n",
              "      <th>min</th>\n",
              "      <td>1.000000</td>\n",
              "      <td>0.000000</td>\n",
              "      <td>10.000000</td>\n",
              "      <td>0.000000</td>\n",
              "    </tr>\n",
              "    <tr>\n",
              "      <th>25%</th>\n",
              "      <td>20.000000</td>\n",
              "      <td>2.000000</td>\n",
              "      <td>23.000000</td>\n",
              "      <td>0.000000</td>\n",
              "    </tr>\n",
              "    <tr>\n",
              "      <th>50%</th>\n",
              "      <td>39.000000</td>\n",
              "      <td>5.000000</td>\n",
              "      <td>35.000000</td>\n",
              "      <td>0.000000</td>\n",
              "    </tr>\n",
              "    <tr>\n",
              "      <th>75%</th>\n",
              "      <td>60.000000</td>\n",
              "      <td>8.000000</td>\n",
              "      <td>48.000000</td>\n",
              "      <td>0.000000</td>\n",
              "    </tr>\n",
              "    <tr>\n",
              "      <th>max</th>\n",
              "      <td>79.000000</td>\n",
              "      <td>10.000000</td>\n",
              "      <td>60.000000</td>\n",
              "      <td>1.000000</td>\n",
              "    </tr>\n",
              "  </tbody>\n",
              "</table>\n",
              "</div>\n",
              "    <div class=\"colab-df-buttons\">\n",
              "\n",
              "  <div class=\"colab-df-container\">\n",
              "    <button class=\"colab-df-convert\" onclick=\"convertToInteractive('df-ea728b1c-1fef-442e-9826-38733239b58e')\"\n",
              "            title=\"Convert this dataframe to an interactive table.\"\n",
              "            style=\"display:none;\">\n",
              "\n",
              "  <svg xmlns=\"http://www.w3.org/2000/svg\" height=\"24px\" viewBox=\"0 -960 960 960\">\n",
              "    <path d=\"M120-120v-720h720v720H120Zm60-500h600v-160H180v160Zm220 220h160v-160H400v160Zm0 220h160v-160H400v160ZM180-400h160v-160H180v160Zm440 0h160v-160H620v160ZM180-180h160v-160H180v160Zm440 0h160v-160H620v160Z\"/>\n",
              "  </svg>\n",
              "    </button>\n",
              "\n",
              "  <style>\n",
              "    .colab-df-container {\n",
              "      display:flex;\n",
              "      gap: 12px;\n",
              "    }\n",
              "\n",
              "    .colab-df-convert {\n",
              "      background-color: #E8F0FE;\n",
              "      border: none;\n",
              "      border-radius: 50%;\n",
              "      cursor: pointer;\n",
              "      display: none;\n",
              "      fill: #1967D2;\n",
              "      height: 32px;\n",
              "      padding: 0 0 0 0;\n",
              "      width: 32px;\n",
              "    }\n",
              "\n",
              "    .colab-df-convert:hover {\n",
              "      background-color: #E2EBFA;\n",
              "      box-shadow: 0px 1px 2px rgba(60, 64, 67, 0.3), 0px 1px 3px 1px rgba(60, 64, 67, 0.15);\n",
              "      fill: #174EA6;\n",
              "    }\n",
              "\n",
              "    .colab-df-buttons div {\n",
              "      margin-bottom: 4px;\n",
              "    }\n",
              "\n",
              "    [theme=dark] .colab-df-convert {\n",
              "      background-color: #3B4455;\n",
              "      fill: #D2E3FC;\n",
              "    }\n",
              "\n",
              "    [theme=dark] .colab-df-convert:hover {\n",
              "      background-color: #434B5C;\n",
              "      box-shadow: 0px 1px 3px 1px rgba(0, 0, 0, 0.15);\n",
              "      filter: drop-shadow(0px 1px 2px rgba(0, 0, 0, 0.3));\n",
              "      fill: #FFFFFF;\n",
              "    }\n",
              "  </style>\n",
              "\n",
              "    <script>\n",
              "      const buttonEl =\n",
              "        document.querySelector('#df-ea728b1c-1fef-442e-9826-38733239b58e button.colab-df-convert');\n",
              "      buttonEl.style.display =\n",
              "        google.colab.kernel.accessAllowed ? 'block' : 'none';\n",
              "\n",
              "      async function convertToInteractive(key) {\n",
              "        const element = document.querySelector('#df-ea728b1c-1fef-442e-9826-38733239b58e');\n",
              "        const dataTable =\n",
              "          await google.colab.kernel.invokeFunction('convertToInteractive',\n",
              "                                                    [key], {});\n",
              "        if (!dataTable) return;\n",
              "\n",
              "        const docLinkHtml = 'Like what you see? Visit the ' +\n",
              "          '<a target=\"_blank\" href=https://colab.research.google.com/notebooks/data_table.ipynb>data table notebook</a>'\n",
              "          + ' to learn more about interactive tables.';\n",
              "        element.innerHTML = '';\n",
              "        dataTable['output_type'] = 'display_data';\n",
              "        await google.colab.output.renderOutput(dataTable, element);\n",
              "        const docLink = document.createElement('div');\n",
              "        docLink.innerHTML = docLinkHtml;\n",
              "        element.appendChild(docLink);\n",
              "      }\n",
              "    </script>\n",
              "  </div>\n",
              "\n",
              "\n",
              "    <div id=\"df-7a9d80a3-ba0e-4394-8423-64d818f8a747\">\n",
              "      <button class=\"colab-df-quickchart\" onclick=\"quickchart('df-7a9d80a3-ba0e-4394-8423-64d818f8a747')\"\n",
              "                title=\"Suggest charts\"\n",
              "                style=\"display:none;\">\n",
              "\n",
              "<svg xmlns=\"http://www.w3.org/2000/svg\" height=\"24px\"viewBox=\"0 0 24 24\"\n",
              "     width=\"24px\">\n",
              "    <g>\n",
              "        <path d=\"M19 3H5c-1.1 0-2 .9-2 2v14c0 1.1.9 2 2 2h14c1.1 0 2-.9 2-2V5c0-1.1-.9-2-2-2zM9 17H7v-7h2v7zm4 0h-2V7h2v10zm4 0h-2v-4h2v4z\"/>\n",
              "    </g>\n",
              "</svg>\n",
              "      </button>\n",
              "\n",
              "<style>\n",
              "  .colab-df-quickchart {\n",
              "      --bg-color: #E8F0FE;\n",
              "      --fill-color: #1967D2;\n",
              "      --hover-bg-color: #E2EBFA;\n",
              "      --hover-fill-color: #174EA6;\n",
              "      --disabled-fill-color: #AAA;\n",
              "      --disabled-bg-color: #DDD;\n",
              "  }\n",
              "\n",
              "  [theme=dark] .colab-df-quickchart {\n",
              "      --bg-color: #3B4455;\n",
              "      --fill-color: #D2E3FC;\n",
              "      --hover-bg-color: #434B5C;\n",
              "      --hover-fill-color: #FFFFFF;\n",
              "      --disabled-bg-color: #3B4455;\n",
              "      --disabled-fill-color: #666;\n",
              "  }\n",
              "\n",
              "  .colab-df-quickchart {\n",
              "    background-color: var(--bg-color);\n",
              "    border: none;\n",
              "    border-radius: 50%;\n",
              "    cursor: pointer;\n",
              "    display: none;\n",
              "    fill: var(--fill-color);\n",
              "    height: 32px;\n",
              "    padding: 0;\n",
              "    width: 32px;\n",
              "  }\n",
              "\n",
              "  .colab-df-quickchart:hover {\n",
              "    background-color: var(--hover-bg-color);\n",
              "    box-shadow: 0 1px 2px rgba(60, 64, 67, 0.3), 0 1px 3px 1px rgba(60, 64, 67, 0.15);\n",
              "    fill: var(--button-hover-fill-color);\n",
              "  }\n",
              "\n",
              "  .colab-df-quickchart-complete:disabled,\n",
              "  .colab-df-quickchart-complete:disabled:hover {\n",
              "    background-color: var(--disabled-bg-color);\n",
              "    fill: var(--disabled-fill-color);\n",
              "    box-shadow: none;\n",
              "  }\n",
              "\n",
              "  .colab-df-spinner {\n",
              "    border: 2px solid var(--fill-color);\n",
              "    border-color: transparent;\n",
              "    border-bottom-color: var(--fill-color);\n",
              "    animation:\n",
              "      spin 1s steps(1) infinite;\n",
              "  }\n",
              "\n",
              "  @keyframes spin {\n",
              "    0% {\n",
              "      border-color: transparent;\n",
              "      border-bottom-color: var(--fill-color);\n",
              "      border-left-color: var(--fill-color);\n",
              "    }\n",
              "    20% {\n",
              "      border-color: transparent;\n",
              "      border-left-color: var(--fill-color);\n",
              "      border-top-color: var(--fill-color);\n",
              "    }\n",
              "    30% {\n",
              "      border-color: transparent;\n",
              "      border-left-color: var(--fill-color);\n",
              "      border-top-color: var(--fill-color);\n",
              "      border-right-color: var(--fill-color);\n",
              "    }\n",
              "    40% {\n",
              "      border-color: transparent;\n",
              "      border-right-color: var(--fill-color);\n",
              "      border-top-color: var(--fill-color);\n",
              "    }\n",
              "    60% {\n",
              "      border-color: transparent;\n",
              "      border-right-color: var(--fill-color);\n",
              "    }\n",
              "    80% {\n",
              "      border-color: transparent;\n",
              "      border-right-color: var(--fill-color);\n",
              "      border-bottom-color: var(--fill-color);\n",
              "    }\n",
              "    90% {\n",
              "      border-color: transparent;\n",
              "      border-bottom-color: var(--fill-color);\n",
              "    }\n",
              "  }\n",
              "</style>\n",
              "\n",
              "      <script>\n",
              "        async function quickchart(key) {\n",
              "          const quickchartButtonEl =\n",
              "            document.querySelector('#' + key + ' button');\n",
              "          quickchartButtonEl.disabled = true;  // To prevent multiple clicks.\n",
              "          quickchartButtonEl.classList.add('colab-df-spinner');\n",
              "          try {\n",
              "            const charts = await google.colab.kernel.invokeFunction(\n",
              "                'suggestCharts', [key], {});\n",
              "          } catch (error) {\n",
              "            console.error('Error during call to suggestCharts:', error);\n",
              "          }\n",
              "          quickchartButtonEl.classList.remove('colab-df-spinner');\n",
              "          quickchartButtonEl.classList.add('colab-df-quickchart-complete');\n",
              "        }\n",
              "        (() => {\n",
              "          let quickchartButtonEl =\n",
              "            document.querySelector('#df-7a9d80a3-ba0e-4394-8423-64d818f8a747 button');\n",
              "          quickchartButtonEl.style.display =\n",
              "            google.colab.kernel.accessAllowed ? 'block' : 'none';\n",
              "        })();\n",
              "      </script>\n",
              "    </div>\n",
              "\n",
              "    </div>\n",
              "  </div>\n"
            ],
            "application/vnd.google.colaboratory.intrinsic+json": {
              "type": "dataframe",
              "summary": "{\n  \"name\": \"df\",\n  \"rows\": 8,\n  \"fields\": [\n    {\n      \"column\": \"Patient Age\",\n      \"properties\": {\n        \"dtype\": \"number\",\n        \"std\": 3245.2248035265884,\n        \"min\": 1.0,\n        \"max\": 9216.0,\n        \"num_unique_values\": 8,\n        \"samples\": [\n          39.855143229166664,\n          39.0,\n          9216.0\n        ],\n        \"semantic_type\": \"\",\n        \"description\": \"\"\n      }\n    },\n    {\n      \"column\": \"Patient Satisfaction Score\",\n      \"properties\": {\n        \"dtype\": \"number\",\n        \"std\": 888.2262685477672,\n        \"min\": 0.0,\n        \"max\": 2517.0,\n        \"num_unique_values\": 8,\n        \"samples\": [\n          4.992054032578467,\n          5.0,\n          2517.0\n        ],\n        \"semantic_type\": \"\",\n        \"description\": \"\"\n      }\n    },\n    {\n      \"column\": \"Patient Waittime\",\n      \"properties\": {\n        \"dtype\": \"number\",\n        \"std\": 3246.975850707372,\n        \"min\": 10.0,\n        \"max\": 9216.0,\n        \"num_unique_values\": 8,\n        \"samples\": [\n          35.25987413194444,\n          35.0,\n          9216.0\n        ],\n        \"semantic_type\": \"\",\n        \"description\": \"\"\n      }\n    },\n    {\n      \"column\": \"Patients CM\",\n      \"properties\": {\n        \"dtype\": \"number\",\n        \"std\": 3258.2837042975952,\n        \"min\": 0.0,\n        \"max\": 9216.0,\n        \"num_unique_values\": 5,\n        \"samples\": [\n          0.052083333333333336,\n          1.0,\n          0.22220714966667057\n        ],\n        \"semantic_type\": \"\",\n        \"description\": \"\"\n      }\n    }\n  ]\n}"
            }
          },
          "metadata": {},
          "execution_count": 38
        }
      ]
    },
    {
      "cell_type": "markdown",
      "source": [
        "# **3. Check Duplicate Values, Unique Values**"
      ],
      "metadata": {
        "id": "-IugOJDWxrmK"
      }
    },
    {
      "cell_type": "code",
      "source": [
        "df.nunique()"
      ],
      "metadata": {
        "colab": {
          "base_uri": "https://localhost:8080/",
          "height": 460
        },
        "id": "WFyNJ4sdxyWG",
        "outputId": "713c8809-e936-4353-9c52-9d494abe57df"
      },
      "execution_count": 39,
      "outputs": [
        {
          "output_type": "execute_result",
          "data": {
            "text/plain": [
              "Patient Id                    9216\n",
              "Patient Admission Date        9176\n",
              "Patient First Inital            26\n",
              "Patient Last Name             8400\n",
              "Patient Gender                   3\n",
              "Patient Age                     79\n",
              "Patient Race                     7\n",
              "Department Referral              7\n",
              "Patient Admission Flag           2\n",
              "Patient Satisfaction Score      11\n",
              "Patient Waittime                51\n",
              "Patients CM                      2\n",
              "dtype: int64"
            ],
            "text/html": [
              "<div>\n",
              "<style scoped>\n",
              "    .dataframe tbody tr th:only-of-type {\n",
              "        vertical-align: middle;\n",
              "    }\n",
              "\n",
              "    .dataframe tbody tr th {\n",
              "        vertical-align: top;\n",
              "    }\n",
              "\n",
              "    .dataframe thead th {\n",
              "        text-align: right;\n",
              "    }\n",
              "</style>\n",
              "<table border=\"1\" class=\"dataframe\">\n",
              "  <thead>\n",
              "    <tr style=\"text-align: right;\">\n",
              "      <th></th>\n",
              "      <th>0</th>\n",
              "    </tr>\n",
              "  </thead>\n",
              "  <tbody>\n",
              "    <tr>\n",
              "      <th>Patient Id</th>\n",
              "      <td>9216</td>\n",
              "    </tr>\n",
              "    <tr>\n",
              "      <th>Patient Admission Date</th>\n",
              "      <td>9176</td>\n",
              "    </tr>\n",
              "    <tr>\n",
              "      <th>Patient First Inital</th>\n",
              "      <td>26</td>\n",
              "    </tr>\n",
              "    <tr>\n",
              "      <th>Patient Last Name</th>\n",
              "      <td>8400</td>\n",
              "    </tr>\n",
              "    <tr>\n",
              "      <th>Patient Gender</th>\n",
              "      <td>3</td>\n",
              "    </tr>\n",
              "    <tr>\n",
              "      <th>Patient Age</th>\n",
              "      <td>79</td>\n",
              "    </tr>\n",
              "    <tr>\n",
              "      <th>Patient Race</th>\n",
              "      <td>7</td>\n",
              "    </tr>\n",
              "    <tr>\n",
              "      <th>Department Referral</th>\n",
              "      <td>7</td>\n",
              "    </tr>\n",
              "    <tr>\n",
              "      <th>Patient Admission Flag</th>\n",
              "      <td>2</td>\n",
              "    </tr>\n",
              "    <tr>\n",
              "      <th>Patient Satisfaction Score</th>\n",
              "      <td>11</td>\n",
              "    </tr>\n",
              "    <tr>\n",
              "      <th>Patient Waittime</th>\n",
              "      <td>51</td>\n",
              "    </tr>\n",
              "    <tr>\n",
              "      <th>Patients CM</th>\n",
              "      <td>2</td>\n",
              "    </tr>\n",
              "  </tbody>\n",
              "</table>\n",
              "</div><br><label><b>dtype:</b> int64</label>"
            ]
          },
          "metadata": {},
          "execution_count": 39
        }
      ]
    },
    {
      "cell_type": "code",
      "source": [
        "df.duplicated().sum()"
      ],
      "metadata": {
        "colab": {
          "base_uri": "https://localhost:8080/"
        },
        "id": "fBvMjWnvyAxe",
        "outputId": "a1cfcafe-a1ab-41bd-98e3-337e55443ea5"
      },
      "execution_count": 40,
      "outputs": [
        {
          "output_type": "execute_result",
          "data": {
            "text/plain": [
              "np.int64(0)"
            ]
          },
          "metadata": {},
          "execution_count": 40
        }
      ]
    },
    {
      "cell_type": "markdown",
      "source": [
        "# ***4. Visualize the Number of Unique Values***"
      ],
      "metadata": {
        "id": "4gRw5soUyx2Z"
      }
    },
    {
      "cell_type": "code",
      "source": [
        "plt.figure(figsize=(12, 7))\n",
        "sns.barplot(x=unique_counts.index, y=unique_counts.values, palette='viridis')\n",
        "plt.title('Jumlah Nilai Unik per Kolom', fontsize=16)\n",
        "plt.xlabel('Nama Kolom', fontsize=12)\n",
        "plt.ylabel('Jumlah Unik', fontsize=12)\n",
        "plt.xticks(rotation=45, ha='right')\n",
        "plt.tight_layout()\n",
        "plt.show()"
      ],
      "metadata": {
        "colab": {
          "base_uri": "https://localhost:8080/",
          "height": 747
        },
        "id": "M1wdQcYty3Ln",
        "outputId": "2c0ec7d8-2ab8-4cf1-c890-cf4ac3ab0c2e"
      },
      "execution_count": 41,
      "outputs": [
        {
          "output_type": "stream",
          "name": "stderr",
          "text": [
            "/tmp/ipython-input-1694458934.py:2: FutureWarning: \n",
            "\n",
            "Passing `palette` without assigning `hue` is deprecated and will be removed in v0.14.0. Assign the `x` variable to `hue` and set `legend=False` for the same effect.\n",
            "\n",
            "  sns.barplot(x=unique_counts.index, y=unique_counts.values, palette='viridis')\n"
          ]
        },
        {
          "output_type": "display_data",
          "data": {
            "text/plain": [
              "<Figure size 1200x700 with 1 Axes>"
            ],
            "image/png": "[encoded data removed]"
          },
          "metadata": {}
        }
      ]
    },
    {
      "cell_type": "markdown",
      "source": [
        "# **5. Finding Null Values**"
      ],
      "metadata": {
        "id": "yp2btR6GzO0L"
      }
    },
    {
      "cell_type": "code",
      "source": [
        "df.isnull().sum()"
      ],
      "metadata": {
        "colab": {
          "base_uri": "https://localhost:8080/",
          "height": 460
        },
        "id": "ltc1XL5szXbp",
        "outputId": "b6d56b3f-59a6-4944-aad8-2a33fc2e9ac3"
      },
      "execution_count": 42,
      "outputs": [
        {
          "output_type": "execute_result",
          "data": {
            "text/plain": [
              "Patient Id                       0\n",
              "Patient Admission Date           0\n",
              "Patient First Inital             0\n",
              "Patient Last Name                0\n",
              "Patient Gender                   0\n",
              "Patient Age                      0\n",
              "Patient Race                     0\n",
              "Department Referral           5400\n",
              "Patient Admission Flag           0\n",
              "Patient Satisfaction Score    6699\n",
              "Patient Waittime                 0\n",
              "Patients CM                      0\n",
              "dtype: int64"
            ],
            "text/html": [
              "<div>\n",
              "<style scoped>\n",
              "    .dataframe tbody tr th:only-of-type {\n",
              "        vertical-align: middle;\n",
              "    }\n",
              "\n",
              "    .dataframe tbody tr th {\n",
              "        vertical-align: top;\n",
              "    }\n",
              "\n",
              "    .dataframe thead th {\n",
              "        text-align: right;\n",
              "    }\n",
              "</style>\n",
              "<table border=\"1\" class=\"dataframe\">\n",
              "  <thead>\n",
              "    <tr style=\"text-align: right;\">\n",
              "      <th></th>\n",
              "      <th>0</th>\n",
              "    </tr>\n",
              "  </thead>\n",
              "  <tbody>\n",
              "    <tr>\n",
              "      <th>Patient Id</th>\n",
              "      <td>0</td>\n",
              "    </tr>\n",
              "    <tr>\n",
              "      <th>Patient Admission Date</th>\n",
              "      <td>0</td>\n",
              "    </tr>\n",
              "    <tr>\n",
              "      <th>Patient First Inital</th>\n",
              "      <td>0</td>\n",
              "    </tr>\n",
              "    <tr>\n",
              "      <th>Patient Last Name</th>\n",
              "      <td>0</td>\n",
              "    </tr>\n",
              "    <tr>\n",
              "      <th>Patient Gender</th>\n",
              "      <td>0</td>\n",
              "    </tr>\n",
              "    <tr>\n",
              "      <th>Patient Age</th>\n",
              "      <td>0</td>\n",
              "    </tr>\n",
              "    <tr>\n",
              "      <th>Patient Race</th>\n",
              "      <td>0</td>\n",
              "    </tr>\n",
              "    <tr>\n",
              "      <th>Department Referral</th>\n",
              "      <td>5400</td>\n",
              "    </tr>\n",
              "    <tr>\n",
              "      <th>Patient Admission Flag</th>\n",
              "      <td>0</td>\n",
              "    </tr>\n",
              "    <tr>\n",
              "      <th>Patient Satisfaction Score</th>\n",
              "      <td>6699</td>\n",
              "    </tr>\n",
              "    <tr>\n",
              "      <th>Patient Waittime</th>\n",
              "      <td>0</td>\n",
              "    </tr>\n",
              "    <tr>\n",
              "      <th>Patients CM</th>\n",
              "      <td>0</td>\n",
              "    </tr>\n",
              "  </tbody>\n",
              "</table>\n",
              "</div><br><label><b>dtype:</b> int64</label>"
            ]
          },
          "metadata": {},
          "execution_count": 42
        }
      ]
    },
    {
      "cell_type": "markdown",
      "source": [
        "# **6. Replace All Null Values**"
      ],
      "metadata": {
        "id": "L1CQGRMfzidD"
      }
    },
    {
      "cell_type": "code",
      "source": [
        "# Hitung median HANYA dari data yang sudah bersih\n",
        "median_score = df['Patient Satisfaction Score'].median()\n",
        "# Isi nilai NaN dengan median\n",
        "df['Patient Satisfaction Score'].fillna(median_score, inplace=True)"
      ],
      "metadata": {
        "colab": {
          "base_uri": "https://localhost:8080/"
        },
        "id": "dVUIp8iOzaHI",
        "outputId": "71144820-4b59-4f8a-f6a7-4f53036c4a55"
      },
      "execution_count": 43,
      "outputs": [
        {
          "output_type": "stream",
          "name": "stderr",
          "text": [
            "/tmp/ipython-input-604706091.py:4: FutureWarning: A value is trying to be set on a copy of a DataFrame or Series through chained assignment using an inplace method.\n",
            "The behavior will change in pandas 3.0. This inplace method will never work because the intermediate object on which we are setting values always behaves as a copy.\n",
            "\n",
            "For example, when doing 'df[col].method(value, inplace=True)', try using 'df.method({col: value}, inplace=True)' or df[col] = df[col].method(value) instead, to perform the operation inplace on the original object.\n",
            "\n",
            "\n",
            "  df['Patient Satisfaction Score'].fillna(median_score, inplace=True)\n"
          ]
        }
      ]
    },
    {
      "cell_type": "code",
      "source": [
        "# ubah None pada kolom Departement Referral menjdi 'tidak ada rujukan'\n",
        "df['Department Referral'].fillna('Tidak Ada Rujukan', inplace=True)"
      ],
      "metadata": {
        "colab": {
          "base_uri": "https://localhost:8080/"
        },
        "id": "wgwrOWgj0Dji",
        "outputId": "f3b9087c-5f6a-4b87-fea7-481171cfed3d"
      },
      "execution_count": 44,
      "outputs": [
        {
          "output_type": "stream",
          "name": "stderr",
          "text": [
            "/tmp/ipython-input-3616472538.py:2: FutureWarning: A value is trying to be set on a copy of a DataFrame or Series through chained assignment using an inplace method.\n",
            "The behavior will change in pandas 3.0. This inplace method will never work because the intermediate object on which we are setting values always behaves as a copy.\n",
            "\n",
            "For example, when doing 'df[col].method(value, inplace=True)', try using 'df.method({col: value}, inplace=True)' or df[col] = df[col].method(value) instead, to perform the operation inplace on the original object.\n",
            "\n",
            "\n",
            "  df['Department Referral'].fillna('Tidak Ada Rujukan', inplace=True)\n"
          ]
        }
      ]
    },
    {
      "cell_type": "code",
      "source": [
        "df.head()"
      ],
      "metadata": {
        "colab": {
          "base_uri": "https://localhost:8080/",
          "height": 362
        },
        "id": "W2F0Ijcm0JEx",
        "outputId": "28e3c425-7640-45cc-8a9d-081deb2b8e3f"
      },
      "execution_count": 45,
      "outputs": [
        {
          "output_type": "execute_result",
          "data": {
            "text/plain": [
              "    Patient Id Patient Admission Date Patient First Inital Patient Last Name  \\\n",
              "0  145-39-5406       20-03-2024 08:47                    H         Glasspool   \n",
              "1  316-34-3057       15-06-2024 11:29                    X           Methuen   \n",
              "2  897-46-3852       20-06-2024 09:13                    P         Schubuser   \n",
              "3  358-31-9711       04-02-2024 22:34                    U          Titcombe   \n",
              "4  289-26-0537       04-09-2024 17:48                    Y       Gionettitti   \n",
              "\n",
              "  Patient Gender  Patient Age                   Patient Race  \\\n",
              "0              M           69                          White   \n",
              "1              M            4  Native American/Alaska Native   \n",
              "2              F           56               African American   \n",
              "3              F           24  Native American/Alaska Native   \n",
              "4              M            5               African American   \n",
              "\n",
              "  Department Referral  Patient Admission Flag  Patient Satisfaction Score  \\\n",
              "0   Tidak Ada Rujukan                   False                        10.0   \n",
              "1   Tidak Ada Rujukan                    True                         5.0   \n",
              "2    General Practice                    True                         9.0   \n",
              "3    General Practice                    True                         8.0   \n",
              "4         Orthopedics                   False                         5.0   \n",
              "\n",
              "   Patient Waittime  Patients CM  \n",
              "0                39            0  \n",
              "1                27            0  \n",
              "2                55            0  \n",
              "3                31            0  \n",
              "4                10            0  "
            ],
            "text/html": [
              "\n",
              "  <div id=\"df-024b09dc-caf0-4c4a-99d6-a80ca0c1ced4\" class=\"colab-df-container\">\n",
              "    <div>\n",
              "<style scoped>\n",
              "    .dataframe tbody tr th:only-of-type {\n",
              "        vertical-align: middle;\n",
              "    }\n",
              "\n",
              "    .dataframe tbody tr th {\n",
              "        vertical-align: top;\n",
              "    }\n",
              "\n",
              "    .dataframe thead th {\n",
              "        text-align: right;\n",
              "    }\n",
              "</style>\n",
              "<table border=\"1\" class=\"dataframe\">\n",
              "  <thead>\n",
              "    <tr style=\"text-align: right;\">\n",
              "      <th></th>\n",
              "      <th>Patient Id</th>\n",
              "      <th>Patient Admission Date</th>\n",
              "      <th>Patient First Inital</th>\n",
              "      <th>Patient Last Name</th>\n",
              "      <th>Patient Gender</th>\n",
              "      <th>Patient Age</th>\n",
              "      <th>Patient Race</th>\n",
              "      <th>Department Referral</th>\n",
              "      <th>Patient Admission Flag</th>\n",
              "      <th>Patient Satisfaction Score</th>\n",
              "      <th>Patient Waittime</th>\n",
              "      <th>Patients CM</th>\n",
              "    </tr>\n",
              "  </thead>\n",
              "  <tbody>\n",
              "    <tr>\n",
              "      <th>0</th>\n",
              "      <td>145-39-5406</td>\n",
              "      <td>20-03-2024 08:47</td>\n",
              "      <td>H</td>\n",
              "      <td>Glasspool</td>\n",
              "      <td>M</td>\n",
              "      <td>69</td>\n",
              "      <td>White</td>\n",
              "      <td>Tidak Ada Rujukan</td>\n",
              "      <td>False</td>\n",
              "      <td>10.0</td>\n",
              "      <td>39</td>\n",
              "      <td>0</td>\n",
              "    </tr>\n",
              "    <tr>\n",
              "      <th>1</th>\n",
              "      <td>316-34-3057</td>\n",
              "      <td>15-06-2024 11:29</td>\n",
              "      <td>X</td>\n",
              "      <td>Methuen</td>\n",
              "      <td>M</td>\n",
              "      <td>4</td>\n",
              "      <td>Native American/Alaska Native</td>\n",
              "      <td>Tidak Ada Rujukan</td>\n",
              "      <td>True</td>\n",
              "      <td>5.0</td>\n",
              "      <td>27</td>\n",
              "      <td>0</td>\n",
              "    </tr>\n",
              "    <tr>\n",
              "      <th>2</th>\n",
              "      <td>897-46-3852</td>\n",
              "      <td>20-06-2024 09:13</td>\n",
              "      <td>P</td>\n",
              "      <td>Schubuser</td>\n",
              "      <td>F</td>\n",
              "      <td>56</td>\n",
              "      <td>African American</td>\n",
              "      <td>General Practice</td>\n",
              "      <td>True</td>\n",
              "      <td>9.0</td>\n",
              "      <td>55</td>\n",
              "      <td>0</td>\n",
              "    </tr>\n",
              "    <tr>\n",
              "      <th>3</th>\n",
              "      <td>358-31-9711</td>\n",
              "      <td>04-02-2024 22:34</td>\n",
              "      <td>U</td>\n",
              "      <td>Titcombe</td>\n",
              "      <td>F</td>\n",
              "      <td>24</td>\n",
              "      <td>Native American/Alaska Native</td>\n",
              "      <td>General Practice</td>\n",
              "      <td>True</td>\n",
              "      <td>8.0</td>\n",
              "      <td>31</td>\n",
              "      <td>0</td>\n",
              "    </tr>\n",
              "    <tr>\n",
              "      <th>4</th>\n",
              "      <td>289-26-0537</td>\n",
              "      <td>04-09-2024 17:48</td>\n",
              "      <td>Y</td>\n",
              "      <td>Gionettitti</td>\n",
              "      <td>M</td>\n",
              "      <td>5</td>\n",
              "      <td>African American</td>\n",
              "      <td>Orthopedics</td>\n",
              "      <td>False</td>\n",
              "      <td>5.0</td>\n",
              "      <td>10</td>\n",
              "      <td>0</td>\n",
              "    </tr>\n",
              "  </tbody>\n",
              "</table>\n",
              "</div>\n",
              "    <div class=\"colab-df-buttons\">\n",
              "\n",
              "  <div class=\"colab-df-container\">\n",
              "    <button class=\"colab-df-convert\" onclick=\"convertToInteractive('df-024b09dc-caf0-4c4a-99d6-a80ca0c1ced4')\"\n",
              "            title=\"Convert this dataframe to an interactive table.\"\n",
              "            style=\"display:none;\">\n",
              "\n",
              "  <svg xmlns=\"http://www.w3.org/2000/svg\" height=\"24px\" viewBox=\"0 -960 960 960\">\n",
              "    <path d=\"M120-120v-720h720v720H120Zm60-500h600v-160H180v160Zm220 220h160v-160H400v160Zm0 220h160v-160H400v160ZM180-400h160v-160H180v160Zm440 0h160v-160H620v160ZM180-180h160v-160H180v160Zm440 0h160v-160H620v160Z\"/>\n",
              "  </svg>\n",
              "    </button>\n",
              "\n",
              "  <style>\n",
              "    .colab-df-container {\n",
              "      display:flex;\n",
              "      gap: 12px;\n",
              "    }\n",
              "\n",
              "    .colab-df-convert {\n",
              "      background-color: #E8F0FE;\n",
              "      border: none;\n",
              "      border-radius: 50%;\n",
              "      cursor: pointer;\n",
              "      display: none;\n",
              "      fill: #1967D2;\n",
              "      height: 32px;\n",
              "      padding: 0 0 0 0;\n",
              "      width: 32px;\n",
              "    }\n",
              "\n",
              "    .colab-df-convert:hover {\n",
              "      background-color: #E2EBFA;\n",
              "      box-shadow: 0px 1px 2px rgba(60, 64, 67, 0.3), 0px 1px 3px 1px rgba(60, 64, 67, 0.15);\n",
              "      fill: #174EA6;\n",
              "    }\n",
              "\n",
              "    .colab-df-buttons div {\n",
              "      margin-bottom: 4px;\n",
              "    }\n",
              "\n",
              "    [theme=dark] .colab-df-convert {\n",
              "      background-color: #3B4455;\n",
              "      fill: #D2E3FC;\n",
              "    }\n",
              "\n",
              "    [theme=dark] .colab-df-convert:hover {\n",
              "      background-color: #434B5C;\n",
              "      box-shadow: 0px 1px 3px 1px rgba(0, 0, 0, 0.15);\n",
              "      filter: drop-shadow(0px 1px 2px rgba(0, 0, 0, 0.3));\n",
              "      fill: #FFFFFF;\n",
              "    }\n",
              "  </style>\n",
              "\n",
              "    <script>\n",
              "      const buttonEl =\n",
              "        document.querySelector('#df-024b09dc-caf0-4c4a-99d6-a80ca0c1ced4 button.colab-df-convert');\n",
              "      buttonEl.style.display =\n",
              "        google.colab.kernel.accessAllowed ? 'block' : 'none';\n",
              "\n",
              "      async function convertToInteractive(key) {\n",
              "        const element = document.querySelector('#df-024b09dc-caf0-4c4a-99d6-a80ca0c1ced4');\n",
              "        const dataTable =\n",
              "          await google.colab.kernel.invokeFunction('convertToInteractive',\n",
              "                                                    [key], {});\n",
              "        if (!dataTable) return;\n",
              "\n",
              "        const docLinkHtml = 'Like what you see? Visit the ' +\n",
              "          '<a target=\"_blank\" href=https://colab.research.google.com/notebooks/data_table.ipynb>data table notebook</a>'\n",
              "          + ' to learn more about interactive tables.';\n",
              "        element.innerHTML = '';\n",
              "        dataTable['output_type'] = 'display_data';\n",
              "        await google.colab.output.renderOutput(dataTable, element);\n",
              "        const docLink = document.createElement('div');\n",
              "        docLink.innerHTML = docLinkHtml;\n",
              "        element.appendChild(docLink);\n",
              "      }\n",
              "    </script>\n",
              "  </div>\n",
              "\n",
              "\n",
              "    <div id=\"df-72fde6e4-4c2c-4169-a282-6f4b978484af\">\n",
              "      <button class=\"colab-df-quickchart\" onclick=\"quickchart('df-72fde6e4-4c2c-4169-a282-6f4b978484af')\"\n",
              "                title=\"Suggest charts\"\n",
              "                style=\"display:none;\">\n",
              "\n",
              "<svg xmlns=\"http://www.w3.org/2000/svg\" height=\"24px\"viewBox=\"0 0 24 24\"\n",
              "     width=\"24px\">\n",
              "    <g>\n",
              "        <path d=\"M19 3H5c-1.1 0-2 .9-2 2v14c0 1.1.9 2 2 2h14c1.1 0 2-.9 2-2V5c0-1.1-.9-2-2-2zM9 17H7v-7h2v7zm4 0h-2V7h2v10zm4 0h-2v-4h2v4z\"/>\n",
              "    </g>\n",
              "</svg>\n",
              "      </button>\n",
              "\n",
              "<style>\n",
              "  .colab-df-quickchart {\n",
              "      --bg-color: #E8F0FE;\n",
              "      --fill-color: #1967D2;\n",
              "      --hover-bg-color: #E2EBFA;\n",
              "      --hover-fill-color: #174EA6;\n",
              "      --disabled-fill-color: #AAA;\n",
              "      --disabled-bg-color: #DDD;\n",
              "  }\n",
              "\n",
              "  [theme=dark] .colab-df-quickchart {\n",
              "      --bg-color: #3B4455;\n",
              "      --fill-color: #D2E3FC;\n",
              "      --hover-bg-color: #434B5C;\n",
              "      --hover-fill-color: #FFFFFF;\n",
              "      --disabled-bg-color: #3B4455;\n",
              "      --disabled-fill-color: #666;\n",
              "  }\n",
              "\n",
              "  .colab-df-quickchart {\n",
              "    background-color: var(--bg-color);\n",
              "    border: none;\n",
              "    border-radius: 50%;\n",
              "    cursor: pointer;\n",
              "    display: none;\n",
              "    fill: var(--fill-color);\n",
              "    height: 32px;\n",
              "    padding: 0;\n",
              "    width: 32px;\n",
              "  }\n",
              "\n",
              "  .colab-df-quickchart:hover {\n",
              "    background-color: var(--hover-bg-color);\n",
              "    box-shadow: 0 1px 2px rgba(60, 64, 67, 0.3), 0 1px 3px 1px rgba(60, 64, 67, 0.15);\n",
              "    fill: var(--button-hover-fill-color);\n",
              "  }\n",
              "\n",
              "  .colab-df-quickchart-complete:disabled,\n",
              "  .colab-df-quickchart-complete:disabled:hover {\n",
              "    background-color: var(--disabled-bg-color);\n",
              "    fill: var(--disabled-fill-color);\n",
              "    box-shadow: none;\n",
              "  }\n",
              "\n",
              "  .colab-df-spinner {\n",
              "    border: 2px solid var(--fill-color);\n",
              "    border-color: transparent;\n",
              "    border-bottom-color: var(--fill-color);\n",
              "    animation:\n",
              "      spin 1s steps(1) infinite;\n",
              "  }\n",
              "\n",
              "  @keyframes spin {\n",
              "    0% {\n",
              "      border-color: transparent;\n",
              "      border-bottom-color: var(--fill-color);\n",
              "      border-left-color: var(--fill-color);\n",
              "    }\n",
              "    20% {\n",
              "      border-color: transparent;\n",
              "      border-left-color: var(--fill-color);\n",
              "      border-top-color: var(--fill-color);\n",
              "    }\n",
              "    30% {\n",
              "      border-color: transparent;\n",
              "      border-left-color: var(--fill-color);\n",
              "      border-top-color: var(--fill-color);\n",
              "      border-right-color: var(--fill-color);\n",
              "    }\n",
              "    40% {\n",
              "      border-color: transparent;\n",
              "      border-right-color: var(--fill-color);\n",
              "      border-top-color: var(--fill-color);\n",
              "    }\n",
              "    60% {\n",
              "      border-color: transparent;\n",
              "      border-right-color: var(--fill-color);\n",
              "    }\n",
              "    80% {\n",
              "      border-color: transparent;\n",
              "      border-right-color: var(--fill-color);\n",
              "      border-bottom-color: var(--fill-color);\n",
              "    }\n",
              "    90% {\n",
              "      border-color: transparent;\n",
              "      border-bottom-color: var(--fill-color);\n",
              "    }\n",
              "  }\n",
              "</style>\n",
              "\n",
              "      <script>\n",
              "        async function quickchart(key) {\n",
              "          const quickchartButtonEl =\n",
              "            document.querySelector('#' + key + ' button');\n",
              "          quickchartButtonEl.disabled = true;  // To prevent multiple clicks.\n",
              "          quickchartButtonEl.classList.add('colab-df-spinner');\n",
              "          try {\n",
              "            const charts = await google.colab.kernel.invokeFunction(\n",
              "                'suggestCharts', [key], {});\n",
              "          } catch (error) {\n",
              "            console.error('Error during call to suggestCharts:', error);\n",
              "          }\n",
              "          quickchartButtonEl.classList.remove('colab-df-spinner');\n",
              "          quickchartButtonEl.classList.add('colab-df-quickchart-complete');\n",
              "        }\n",
              "        (() => {\n",
              "          let quickchartButtonEl =\n",
              "            document.querySelector('#df-72fde6e4-4c2c-4169-a282-6f4b978484af button');\n",
              "          quickchartButtonEl.style.display =\n",
              "            google.colab.kernel.accessAllowed ? 'block' : 'none';\n",
              "        })();\n",
              "      </script>\n",
              "    </div>\n",
              "\n",
              "    </div>\n",
              "  </div>\n"
            ],
            "application/vnd.google.colaboratory.intrinsic+json": {
              "type": "dataframe",
              "variable_name": "df",
              "summary": "{\n  \"name\": \"df\",\n  \"rows\": 9216,\n  \"fields\": [\n    {\n      \"column\": \"Patient Id\",\n      \"properties\": {\n        \"dtype\": \"string\",\n        \"num_unique_values\": 9216,\n        \"samples\": [\n          \"195-51-1109\",\n          \"174-52-2854\",\n          \"468-16-2640\"\n        ],\n        \"semantic_type\": \"\",\n        \"description\": \"\"\n      }\n    },\n    {\n      \"column\": \"Patient Admission Date\",\n      \"properties\": {\n        \"dtype\": \"object\",\n        \"num_unique_values\": 9176,\n        \"samples\": [\n          \"24-03-2024 11:55\",\n          \"26-04-2024 07:46\",\n          \"10-01-2024 16:25\"\n        ],\n        \"semantic_type\": \"\",\n        \"description\": \"\"\n      }\n    },\n    {\n      \"column\": \"Patient First Inital\",\n      \"properties\": {\n        \"dtype\": \"category\",\n        \"num_unique_values\": 26,\n        \"samples\": [\n          \"M\",\n          \"W\",\n          \"H\"\n        ],\n        \"semantic_type\": \"\",\n        \"description\": \"\"\n      }\n    },\n    {\n      \"column\": \"Patient Last Name\",\n      \"properties\": {\n        \"dtype\": \"string\",\n        \"num_unique_values\": 8400,\n        \"samples\": [\n          \"Vannacci\",\n          \"Eckford\",\n          \"Hamments\"\n        ],\n        \"semantic_type\": \"\",\n        \"description\": \"\"\n      }\n    },\n    {\n      \"column\": \"Patient Gender\",\n      \"properties\": {\n        \"dtype\": \"category\",\n        \"num_unique_values\": 3,\n        \"samples\": [\n          \"M\",\n          \"F\",\n          \"NC\"\n        ],\n        \"semantic_type\": \"\",\n        \"description\": \"\"\n      }\n    },\n    {\n      \"column\": \"Patient Age\",\n      \"properties\": {\n        \"dtype\": \"number\",\n        \"std\": 22,\n        \"min\": 1,\n        \"max\": 79,\n        \"num_unique_values\": 79,\n        \"samples\": [\n          41,\n          69,\n          22\n        ],\n        \"semantic_type\": \"\",\n        \"description\": \"\"\n      }\n    },\n    {\n      \"column\": \"Patient Race\",\n      \"properties\": {\n        \"dtype\": \"category\",\n        \"num_unique_values\": 7,\n        \"samples\": [\n          \"White\",\n          \"Native American/Alaska Native\",\n          \"Pacific Islander\"\n        ],\n        \"semantic_type\": \"\",\n        \"description\": \"\"\n      }\n    },\n    {\n      \"column\": \"Department Referral\",\n      \"properties\": {\n        \"dtype\": \"category\",\n        \"num_unique_values\": 8,\n        \"samples\": [\n          \"General Practice\",\n          \"Neurology\",\n          \"Tidak Ada Rujukan\"\n        ],\n        \"semantic_type\": \"\",\n        \"description\": \"\"\n      }\n    },\n    {\n      \"column\": \"Patient Admission Flag\",\n      \"properties\": {\n        \"dtype\": \"boolean\",\n        \"num_unique_values\": 2,\n        \"samples\": [\n          true,\n          false\n        ],\n        \"semantic_type\": \"\",\n        \"description\": \"\"\n      }\n    },\n    {\n      \"column\": \"Patient Satisfaction Score\",\n      \"properties\": {\n        \"dtype\": \"number\",\n        \"std\": 1.6397118904857986,\n        \"min\": 0.0,\n        \"max\": 10.0,\n        \"num_unique_values\": 11,\n        \"samples\": [\n          2.0,\n          10.0\n        ],\n        \"semantic_type\": \"\",\n        \"description\": \"\"\n      }\n    },\n    {\n      \"column\": \"Patient Waittime\",\n      \"properties\": {\n        \"dtype\": \"number\",\n        \"std\": 14,\n        \"min\": 10,\n        \"max\": 60,\n        \"num_unique_values\": 51,\n        \"samples\": [\n          47,\n          38\n        ],\n        \"semantic_type\": \"\",\n        \"description\": \"\"\n      }\n    },\n    {\n      \"column\": \"Patients CM\",\n      \"properties\": {\n        \"dtype\": \"number\",\n        \"std\": 0,\n        \"min\": 0,\n        \"max\": 1,\n        \"num_unique_values\": 2,\n        \"samples\": [\n          1,\n          0\n        ],\n        \"semantic_type\": \"\",\n        \"description\": \"\"\n      }\n    }\n  ]\n}"
            }
          },
          "metadata": {},
          "execution_count": 45
        }
      ]
    },
    {
      "cell_type": "markdown",
      "source": [
        "# **7. Knowing the Types of Datasets**"
      ],
      "metadata": {
        "id": "nWcvWNAK0eLS"
      }
    },
    {
      "cell_type": "code",
      "source": [
        "df.dtypes"
      ],
      "metadata": {
        "colab": {
          "base_uri": "https://localhost:8080/",
          "height": 460
        },
        "id": "VxixZ1u01H2C",
        "outputId": "a286e1a8-b8c4-4a3d-8603-f7482e40aa5b"
      },
      "execution_count": 48,
      "outputs": [
        {
          "output_type": "execute_result",
          "data": {
            "text/plain": [
              "Patient Id                     object\n",
              "Patient Admission Date         object\n",
              "Patient First Inital           object\n",
              "Patient Last Name              object\n",
              "Patient Gender                 object\n",
              "Patient Age                     int64\n",
              "Patient Race                   object\n",
              "Department Referral            object\n",
              "Patient Admission Flag           bool\n",
              "Patient Satisfaction Score    float64\n",
              "Patient Waittime                int64\n",
              "Patients CM                     int64\n",
              "dtype: object"
            ],
            "text/html": [
              "<div>\n",
              "<style scoped>\n",
              "    .dataframe tbody tr th:only-of-type {\n",
              "        vertical-align: middle;\n",
              "    }\n",
              "\n",
              "    .dataframe tbody tr th {\n",
              "        vertical-align: top;\n",
              "    }\n",
              "\n",
              "    .dataframe thead th {\n",
              "        text-align: right;\n",
              "    }\n",
              "</style>\n",
              "<table border=\"1\" class=\"dataframe\">\n",
              "  <thead>\n",
              "    <tr style=\"text-align: right;\">\n",
              "      <th></th>\n",
              "      <th>0</th>\n",
              "    </tr>\n",
              "  </thead>\n",
              "  <tbody>\n",
              "    <tr>\n",
              "      <th>Patient Id</th>\n",
              "      <td>object</td>\n",
              "    </tr>\n",
              "    <tr>\n",
              "      <th>Patient Admission Date</th>\n",
              "      <td>object</td>\n",
              "    </tr>\n",
              "    <tr>\n",
              "      <th>Patient First Inital</th>\n",
              "      <td>object</td>\n",
              "    </tr>\n",
              "    <tr>\n",
              "      <th>Patient Last Name</th>\n",
              "      <td>object</td>\n",
              "    </tr>\n",
              "    <tr>\n",
              "      <th>Patient Gender</th>\n",
              "      <td>object</td>\n",
              "    </tr>\n",
              "    <tr>\n",
              "      <th>Patient Age</th>\n",
              "      <td>int64</td>\n",
              "    </tr>\n",
              "    <tr>\n",
              "      <th>Patient Race</th>\n",
              "      <td>object</td>\n",
              "    </tr>\n",
              "    <tr>\n",
              "      <th>Department Referral</th>\n",
              "      <td>object</td>\n",
              "    </tr>\n",
              "    <tr>\n",
              "      <th>Patient Admission Flag</th>\n",
              "      <td>bool</td>\n",
              "    </tr>\n",
              "    <tr>\n",
              "      <th>Patient Satisfaction Score</th>\n",
              "      <td>float64</td>\n",
              "    </tr>\n",
              "    <tr>\n",
              "      <th>Patient Waittime</th>\n",
              "      <td>int64</td>\n",
              "    </tr>\n",
              "    <tr>\n",
              "      <th>Patients CM</th>\n",
              "      <td>int64</td>\n",
              "    </tr>\n",
              "  </tbody>\n",
              "</table>\n",
              "</div><br><label><b>dtype:</b> object</label>"
            ]
          },
          "metadata": {},
          "execution_count": 48
        }
      ]
    },
    {
      "cell_type": "code",
      "source": [
        "# ubah tipe data ke datetime untuk kolom Patient Admision Date\n",
        "df['Patient Admission Date'] = pd.to_datetime(df['Patient Admission Date'], format='%d-%m-%Y %H:%M')"
      ],
      "metadata": {
        "id": "UhnrCqkv1I0O"
      },
      "execution_count": 49,
      "outputs": []
    },
    {
      "cell_type": "code",
      "source": [
        "df.dtypes"
      ],
      "metadata": {
        "colab": {
          "base_uri": "https://localhost:8080/",
          "height": 460
        },
        "id": "3p8WroTw1O1Z",
        "outputId": "7a279b3e-1a50-4eb5-a62d-fd9577ca47b8"
      },
      "execution_count": 50,
      "outputs": [
        {
          "output_type": "execute_result",
          "data": {
            "text/plain": [
              "Patient Id                            object\n",
              "Patient Admission Date        datetime64[ns]\n",
              "Patient First Inital                  object\n",
              "Patient Last Name                     object\n",
              "Patient Gender                        object\n",
              "Patient Age                            int64\n",
              "Patient Race                          object\n",
              "Department Referral                   object\n",
              "Patient Admission Flag                  bool\n",
              "Patient Satisfaction Score           float64\n",
              "Patient Waittime                       int64\n",
              "Patients CM                            int64\n",
              "dtype: object"
            ],
            "text/html": [
              "<div>\n",
              "<style scoped>\n",
              "    .dataframe tbody tr th:only-of-type {\n",
              "        vertical-align: middle;\n",
              "    }\n",
              "\n",
              "    .dataframe tbody tr th {\n",
              "        vertical-align: top;\n",
              "    }\n",
              "\n",
              "    .dataframe thead th {\n",
              "        text-align: right;\n",
              "    }\n",
              "</style>\n",
              "<table border=\"1\" class=\"dataframe\">\n",
              "  <thead>\n",
              "    <tr style=\"text-align: right;\">\n",
              "      <th></th>\n",
              "      <th>0</th>\n",
              "    </tr>\n",
              "  </thead>\n",
              "  <tbody>\n",
              "    <tr>\n",
              "      <th>Patient Id</th>\n",
              "      <td>object</td>\n",
              "    </tr>\n",
              "    <tr>\n",
              "      <th>Patient Admission Date</th>\n",
              "      <td>datetime64[ns]</td>\n",
              "    </tr>\n",
              "    <tr>\n",
              "      <th>Patient First Inital</th>\n",
              "      <td>object</td>\n",
              "    </tr>\n",
              "    <tr>\n",
              "      <th>Patient Last Name</th>\n",
              "      <td>object</td>\n",
              "    </tr>\n",
              "    <tr>\n",
              "      <th>Patient Gender</th>\n",
              "      <td>object</td>\n",
              "    </tr>\n",
              "    <tr>\n",
              "      <th>Patient Age</th>\n",
              "      <td>int64</td>\n",
              "    </tr>\n",
              "    <tr>\n",
              "      <th>Patient Race</th>\n",
              "      <td>object</td>\n",
              "    </tr>\n",
              "    <tr>\n",
              "      <th>Department Referral</th>\n",
              "      <td>object</td>\n",
              "    </tr>\n",
              "    <tr>\n",
              "      <th>Patient Admission Flag</th>\n",
              "      <td>bool</td>\n",
              "    </tr>\n",
              "    <tr>\n",
              "      <th>Patient Satisfaction Score</th>\n",
              "      <td>float64</td>\n",
              "    </tr>\n",
              "    <tr>\n",
              "      <th>Patient Waittime</th>\n",
              "      <td>int64</td>\n",
              "    </tr>\n",
              "    <tr>\n",
              "      <th>Patients CM</th>\n",
              "      <td>int64</td>\n",
              "    </tr>\n",
              "  </tbody>\n",
              "</table>\n",
              "</div><br><label><b>dtype:</b> object</label>"
            ]
          },
          "metadata": {},
          "execution_count": 50
        }
      ]
    },
    {
      "cell_type": "markdown",
      "source": [
        "# **8. Data Filter**"
      ],
      "metadata": {
        "id": "2IT3f9iq1XRN"
      }
    },
    {
      "cell_type": "code",
      "source": [
        "# pasien yang berusia di atas 60 tahun dan membutuhkan Fisioterapi\n",
        "filtered_data = df[(df['Patient Age'] > 60) & (df['Department Referral'] == 'Physiotherapy')]\n",
        "print(f\"Ditemukan {len(filtered_data)} pasien berusia di atas 60 tahun dengan rujukan Fisioterapi.\")\n",
        "print(\"Contoh data yang telah difilter:\")\n",
        "print(filtered_data.head())"
      ],
      "metadata": {
        "colab": {
          "base_uri": "https://localhost:8080/"
        },
        "id": "4m13BgNp1P6-",
        "outputId": "f553e855-ad6e-4ab8-e9af-156efaedd924"
      },
      "execution_count": 57,
      "outputs": [
        {
          "output_type": "stream",
          "name": "stdout",
          "text": [
            "Ditemukan 71 pasien berusia di atas 60 tahun dengan rujukan Fisioterapi.\n",
            "Contoh data yang telah difilter:\n",
            "      Patient Id Patient Admission Date Patient First Inital  \\\n",
            "18   728-31-2493    2023-09-04 16:15:00                    W   \n",
            "33   278-49-6531    2024-08-05 01:33:00                    L   \n",
            "397  271-74-6084    2024-04-15 01:32:00                    W   \n",
            "549  722-84-3095    2023-05-21 20:20:00                    F   \n",
            "605  178-03-0288    2023-09-13 05:11:00                    F   \n",
            "\n",
            "    Patient Last Name Patient Gender  Patient Age       Patient Race  \\\n",
            "18           Chittock              F           70              Asian   \n",
            "33           Vannacci              F           74              White   \n",
            "397           Wycliff              F           62   African American   \n",
            "549             Plank              F           76  Two or More Races   \n",
            "605              Kunz              F           73  Two or More Races   \n",
            "\n",
            "    Department Referral  Patient Admission Flag  Patient Satisfaction Score  \\\n",
            "18        Physiotherapy                    True                         5.0   \n",
            "33        Physiotherapy                   False                         0.0   \n",
            "397       Physiotherapy                   False                         5.0   \n",
            "549       Physiotherapy                    True                         5.0   \n",
            "605       Physiotherapy                   False                         5.0   \n",
            "\n",
            "     Patient Waittime  Patients CM Kategori Usia  \n",
            "18                 50            0      Lansia :  \n",
            "33                 20            0      Lansia :  \n",
            "397                56            0      Lansia :  \n",
            "549                43            1      Lansia :  \n",
            "605                25            0      Lansia :  \n"
          ]
        }
      ]
    },
    {
      "cell_type": "code",
      "source": [
        "# Departemen yang memiliki nilai rata-rata tingkat kepuasan lebih dari 5 dan kurang dari 5\n",
        "\n",
        "kepuasan = df.groupby(\"Department Referral\")[\"Patient Satisfaction Score\"].mean().reset_index()\n",
        "diatas_5 = kepuasan[kepuasan[\"Patient Satisfaction Score\"]>5]\n",
        "dibawah_5 = kepuasan[kepuasan[\"Patient Satisfaction Score\"]<5]\n",
        "\n",
        "print(\"Departemen yang memiliki nilai rata-rata tingkat kepuasan lebih dari 5 : \")\n",
        "print(diatas_5,\"\\n\")\n",
        "print(\"Departemen yang memiliki nilai rata-rata tingkat kepuasan kurang dari 5 : \")\n",
        "print(dibawah_5)"
      ],
      "metadata": {
        "colab": {
          "base_uri": "https://localhost:8080/"
        },
        "id": "iYXdzpFQ1393",
        "outputId": "e45669b7-9f7d-4f2d-bb0c-f947662a77bd"
      },
      "execution_count": 53,
      "outputs": [
        {
          "output_type": "stream",
          "name": "stdout",
          "text": [
            "Departemen yang memiliki nilai rata-rata tingkat kepuasan lebih dari 5 : \n",
            "  Department Referral  Patient Satisfaction Score\n",
            "0          Cardiology                    5.040323\n",
            "1    Gastroenterology                    5.241573\n",
            "2    General Practice                    5.016848\n",
            "3           Neurology                    5.077720 \n",
            "\n",
            "Departemen yang memiliki nilai rata-rata tingkat kepuasan kurang dari 5 : \n",
            "  Department Referral  Patient Satisfaction Score\n",
            "4         Orthopedics                    4.958794\n",
            "5       Physiotherapy                    4.996377\n",
            "6               Renal                    4.883721\n",
            "7   Tidak Ada Rujukan                    4.987593\n"
          ]
        }
      ]
    },
    {
      "cell_type": "code",
      "source": [
        "# Distribusi pasien berdasarkan kategori usia\n",
        "bins = [0, 12, 17, 39, 59, 120]\n",
        "labels = [\"Anak-anak :\", \"Remaja :\", \"Dewasa Muda :\", \"Dewasa :\", \"Lansia :\"]\n",
        "\n",
        "df[\"Kategori Usia\"] = pd.cut(df[\"Patient Age\"], bins=bins, labels=labels, right=True)\n",
        "distribusi = df[\"Kategori Usia\"].value_counts().sort_index()\n",
        "\n",
        "print(\"\\nDistribusi pasien berdasarkan kategori usia:\\n\")\n",
        "print(distribusi)"
      ],
      "metadata": {
        "colab": {
          "base_uri": "https://localhost:8080/"
        },
        "id": "OO0Lxcgd18LV",
        "outputId": "f50071d5-858b-463d-c0ab-abf07d5a052a"
      },
      "execution_count": 54,
      "outputs": [
        {
          "output_type": "stream",
          "name": "stdout",
          "text": [
            "\n",
            "Distribusi pasien berdasarkan kategori usia:\n",
            "\n",
            "Kategori Usia\n",
            "Anak-anak :      1413\n",
            "Remaja :          558\n",
            "Dewasa Muda :    2652\n",
            "Dewasa :         2286\n",
            "Lansia :         2307\n",
            "Name: count, dtype: int64\n"
          ]
        }
      ]
    },
    {
      "cell_type": "code",
      "source": [
        "# Pasien dengan skor kepuasan tinggi (di atas 8) dan waktu tunggu singkat (kurang dari 20 menit)\n",
        "print(\"\\n\")\n",
        "filtered_data_2 = df[(df['Patient Satisfaction Score'] > 8) & (df['Patient Waittime'] < 20)]\n",
        "print(f\"Ditemukan {len(filtered_data_2)} pasien dengan skor kepuasan > 8 dan waktu tunggu < 20 menit.\")\n",
        "print(\"Contoh data yang telah difilter (Filter 2):\")\n",
        "print(filtered_data_2.head())"
      ],
      "metadata": {
        "colab": {
          "base_uri": "https://localhost:8080/"
        },
        "id": "Rw3DLUG_2OpT",
        "outputId": "879c88fb-5387-4e63-a081-377f49710ae3"
      },
      "execution_count": 55,
      "outputs": [
        {
          "output_type": "stream",
          "name": "stdout",
          "text": [
            "\n",
            "\n",
            "Ditemukan 98 pasien dengan skor kepuasan > 8 dan waktu tunggu < 20 menit.\n",
            "Contoh data yang telah difilter (Filter 2):\n",
            "       Patient Id Patient Admission Date Patient First Inital  \\\n",
            "86    496-23-9655    2023-10-11 03:24:00                    X   \n",
            "256   353-11-2559    2023-12-02 20:38:00                    V   \n",
            "809   574-06-1810    2023-06-04 02:36:00                    R   \n",
            "1102  703-90-9423    2023-06-23 09:01:00                    E   \n",
            "1317  381-92-2973    2023-06-06 17:51:00                    U   \n",
            "\n",
            "     Patient Last Name Patient Gender  Patient Age          Patient Race  \\\n",
            "86              Maffin              F           15  Declined to Identify   \n",
            "256         Pollington              F           49                 Asian   \n",
            "809             Curner              M           70                 White   \n",
            "1102          Killiner              F           45      African American   \n",
            "1317           Chitham              F           79      African American   \n",
            "\n",
            "     Department Referral  Patient Admission Flag  Patient Satisfaction Score  \\\n",
            "86      General Practice                    True                         9.0   \n",
            "256    Tidak Ada Rujukan                   False                        10.0   \n",
            "809    Tidak Ada Rujukan                   False                        10.0   \n",
            "1102    General Practice                   False                        10.0   \n",
            "1317   Tidak Ada Rujukan                   False                        10.0   \n",
            "\n",
            "      Patient Waittime  Patients CM Kategori Usia  \n",
            "86                  15            0      Remaja :  \n",
            "256                 15            0      Dewasa :  \n",
            "809                 17            0      Lansia :  \n",
            "1102                14            0      Dewasa :  \n",
            "1317                15            0      Lansia :  \n"
          ]
        }
      ]
    },
    {
      "cell_type": "code",
      "source": [
        "# Menyaring pasien ras 'African American' dan berjenis kelamin perempuan ('F')\n",
        "print(\"\\n\")\n",
        "filtered_data_3 = df[(df['Patient Race'] == 'African American') & (df['Patient Gender'] == 'F')]\n",
        "print(f\"Ditemukan {len(filtered_data_3)} pasien ras 'African American' berjenis kelamin perempuan.\")\n",
        "print(\"Contoh data yang telah difilter (Filter 3):\")\n",
        "print(filtered_data_3.head())"
      ],
      "metadata": {
        "colab": {
          "base_uri": "https://localhost:8080/"
        },
        "id": "PVHXNre724YC",
        "outputId": "167d7dd3-1b3c-4f69-d671-f11c0130f157"
      },
      "execution_count": 56,
      "outputs": [
        {
          "output_type": "stream",
          "name": "stdout",
          "text": [
            "\n",
            "\n",
            "Ditemukan 917 pasien ras 'African American' berjenis kelamin perempuan.\n",
            "Contoh data yang telah difilter (Filter 3):\n",
            "     Patient Id Patient Admission Date Patient First Inital Patient Last Name  \\\n",
            "2   897-46-3852    2024-06-20 09:13:00                    P         Schubuser   \n",
            "26  598-53-3927    2024-09-04 02:30:00                    S             Noads   \n",
            "29  693-38-2084    2024-07-07 14:58:00                    H             Kehoe   \n",
            "39  878-55-0051    2023-07-06 19:47:00                    R        Harrington   \n",
            "42  553-27-8559    2023-05-27 06:13:00                    Q       Garnsworthy   \n",
            "\n",
            "   Patient Gender  Patient Age      Patient Race Department Referral  \\\n",
            "2               F           56  African American    General Practice   \n",
            "26              F           68  African American   Tidak Ada Rujukan   \n",
            "29              F           72  African American   Tidak Ada Rujukan   \n",
            "39              F           22  African American    General Practice   \n",
            "42              F            8  African American    General Practice   \n",
            "\n",
            "    Patient Admission Flag  Patient Satisfaction Score  Patient Waittime  \\\n",
            "2                     True                         9.0                55   \n",
            "26                   False                         5.0                58   \n",
            "29                    True                         5.0                37   \n",
            "39                   False                         5.0                16   \n",
            "42                   False                         5.0                59   \n",
            "\n",
            "    Patients CM  Kategori Usia  \n",
            "2             0       Dewasa :  \n",
            "26            0       Lansia :  \n",
            "29            0       Lansia :  \n",
            "39            0  Dewasa Muda :  \n",
            "42            1    Anak-anak :  \n"
          ]
        }
      ]
    },
    {
      "cell_type": "markdown",
      "source": [
        "# **9. Create a Box Plot**"
      ],
      "metadata": {
        "id": "pzZSEmVr3Mpa"
      }
    },
    {
      "cell_type": "code",
      "source": [
        "plt.figure(figsize=(8, 6))\n",
        "sns.boxplot(y=filtered_data['Patient Waittime'])\n",
        "plt.title('Distribusi Waktu Tunggu Pasien Usia > 60 dengan Rujukan Fisioterapi', fontsize=14)\n",
        "plt.ylabel('Waktu Tunggu (menit)', fontsize=12)\n",
        "plt.show()"
      ],
      "metadata": {
        "colab": {
          "base_uri": "https://localhost:8080/",
          "height": 527
        },
        "id": "26k04Wjf3wia",
        "outputId": "8aa6ac75-7503-45b1-ff8e-a1b66b012cae"
      },
      "execution_count": 60,
      "outputs": [
        {
          "output_type": "display_data",
          "data": {
            "text/plain": [
              "<Figure size 800x600 with 1 Axes>"
            ],
            "image/png": "[encoded data removed]"
          },
          "metadata": {}
        }
      ]
    },
    {
      "cell_type": "code",
      "source": [
        "# Boxplot nilai rata-rata tingkat kepuasan per departemen (diatas_5 dan dibawah_5)\n",
        "plt.figure(figsize=(8, 6))\n",
        "sns.boxplot(data=[diatas_5['Patient Satisfaction Score'], dibawah_5['Patient Satisfaction Score']],\n",
        "            palette=['#2ca02c', '#d62728'])\n",
        "plt.xticks([0, 1], ['Rata-rata > 5', 'Rata-rata < 5'])\n",
        "plt.title('Boxplot Rata-rata Tingkat Kepuasan per Departemen')\n",
        "plt.ylabel('Patient Satisfaction Score')\n",
        "plt.show()"
      ],
      "metadata": {
        "colab": {
          "base_uri": "https://localhost:8080/",
          "height": 580
        },
        "id": "h0U4qPpR4I9B",
        "outputId": "86ff542b-2d12-4f3c-95d6-bd06c4dbce37"
      },
      "execution_count": 63,
      "outputs": [
        {
          "output_type": "stream",
          "name": "stderr",
          "text": [
            "/tmp/ipython-input-1169141475.py:3: UserWarning: The palette list has more values (2) than needed (1), which may not be intended.\n",
            "  sns.boxplot(data=[diatas_5['Patient Satisfaction Score'], dibawah_5['Patient Satisfaction Score']],\n"
          ]
        },
        {
          "output_type": "display_data",
          "data": {
            "text/plain": [
              "<Figure size 800x600 with 1 Axes>"
            ],
            "image/png": "[encoded data removed]"
          },
          "metadata": {}
        }
      ]
    },
    {
      "cell_type": "code",
      "source": [
        "# Box plot waktu tunggu berdasarkan kategori usia\n",
        "plt.figure(figsize=(12, 7))\n",
        "sns.boxplot(x='Kategori Usia', y='Patient Waittime', data=df, palette='pastel')\n",
        "plt.title('Distribusi Waktu Tunggu Pasien Berdasarkan Kategori Usia', fontsize=16)\n",
        "plt.xlabel('Kategori Usia', fontsize=12)\n",
        "plt.ylabel('Waktu Tunggu (Menit)', fontsize=12)\n",
        "plt.show()"
      ],
      "metadata": {
        "colab": {
          "base_uri": "https://localhost:8080/",
          "height": 754
        },
        "id": "dxt3uFbA4MQi",
        "outputId": "a08108b6-e948-454f-db55-604cf9739269"
      },
      "execution_count": 65,
      "outputs": [
        {
          "output_type": "stream",
          "name": "stderr",
          "text": [
            "/tmp/ipython-input-1385870274.py:3: FutureWarning: \n",
            "\n",
            "Passing `palette` without assigning `hue` is deprecated and will be removed in v0.14.0. Assign the `x` variable to `hue` and set `legend=False` for the same effect.\n",
            "\n",
            "  sns.boxplot(x='Kategori Usia', y='Patient Waittime', data=df, palette='pastel')\n"
          ]
        },
        {
          "output_type": "display_data",
          "data": {
            "text/plain": [
              "<Figure size 1200x700 with 1 Axes>"
            ],
            "image/png": "[encoded data removed]"
          },
          "metadata": {}
        }
      ]
    },
    {
      "cell_type": "code",
      "source": [
        "# Box plot kepuasan dan waktu tunggu (tinggi) & lainnya\n",
        "df['Grup Kepuasan'] = (df['Patient Satisfaction Score'] > 8) & (df['Patient Waittime'] < 20)\n",
        "\n",
        "plt.figure(figsize=(10, 7))\n",
        "sns.boxplot(x='Grup Kepuasan', y='Patient Age', data=df, palette='Set2')\n",
        "plt.title('Perbandingan Usia Pasien (Kepuasan Tinggi & Waktu Tunggu Singkat vs. Lainnya)', fontsize=16)\n",
        "plt.xlabel('Grup Pasien', fontsize=12)\n",
        "plt.ylabel('Usia Pasien', fontsize=12)\n",
        "plt.xticks(ticks=[False, True], labels=['Pasien Lainnya', 'Kepuasan Tinggi & Waktu Tunggu < 20 Menit'])\n",
        "plt.show()"
      ],
      "metadata": {
        "colab": {
          "base_uri": "https://localhost:8080/",
          "height": 754
        },
        "id": "LEUR8ID04jqQ",
        "outputId": "6488543d-8d65-4b1f-ea18-f124fb635afa"
      },
      "execution_count": 67,
      "outputs": [
        {
          "output_type": "stream",
          "name": "stderr",
          "text": [
            "/tmp/ipython-input-3351012216.py:5: FutureWarning: \n",
            "\n",
            "Passing `palette` without assigning `hue` is deprecated and will be removed in v0.14.0. Assign the `x` variable to `hue` and set `legend=False` for the same effect.\n",
            "\n",
            "  sns.boxplot(x='Grup Kepuasan', y='Patient Age', data=df, palette='Set2')\n"
          ]
        },
        {
          "output_type": "display_data",
          "data": {
            "text/plain": [
              "<Figure size 1000x700 with 1 Axes>"
            ],
            "image/png": "[encoded data removed]"
          },
          "metadata": {}
        }
      ]
    },
    {
      "cell_type": "code",
      "source": [
        "# Distribusi usia pasien ras African American perempuan\n",
        "plt.figure(figsize=(10, 6))\n",
        "sns.histplot(data=filtered_data_3, x='Patient Age', kde=True, bins=20, palette='viridis')\n",
        "plt.title('Distribusi Usia Pasien African American Perempuan', fontsize=16)\n",
        "plt.xlabel('Usia Pasien', fontsize=12)\n",
        "plt.ylabel('Jumlah Pasien', fontsize=12)\n",
        "plt.show()"
      ],
      "metadata": {
        "colab": {
          "base_uri": "https://localhost:8080/",
          "height": 605
        },
        "id": "V23Mh2av6GCC",
        "outputId": "c7403296-3e37-4656-bfd5-2cce1561d35c"
      },
      "execution_count": 69,
      "outputs": [
        {
          "output_type": "stream",
          "name": "stderr",
          "text": [
            "/tmp/ipython-input-2416299021.py:3: UserWarning: Ignoring `palette` because no `hue` variable has been assigned.\n",
            "  sns.histplot(data=filtered_data_3, x='Patient Age', kde=True, bins=20, palette='viridis')\n"
          ]
        },
        {
          "output_type": "display_data",
          "data": {
            "text/plain": [
              "<Figure size 1000x600 with 1 Axes>"
            ],
            "image/png": "[encoded data removed]"
          },
          "metadata": {}
        }
      ]
    },
    {
      "cell_type": "markdown",
      "source": [
        "# **10. Correlation**"
      ],
      "metadata": {
        "id": "b0N3E2RG6cc6"
      }
    },
    {
      "cell_type": "code",
      "source": [
        "print(\"\\n--- 12. Heatmap Korelasi Antar Kolom Numerik ---\")\n",
        "numeric_df = df.select_dtypes(include=['number'])\n",
        "correlation_matrix = numeric_df.corr()\n",
        "\n",
        "plt.figure(figsize=(12, 8))\n",
        "sns.heatmap(correlation_matrix, annot=True, cmap='coolwarm', fmt='.2f', linewidths=.5)\n",
        "plt.title('Heatmap Korelasi', fontsize=16)\n",
        "plt.show()"
      ],
      "metadata": {
        "colab": {
          "base_uri": "https://localhost:8080/",
          "height": 736
        },
        "id": "vrsVQhkt6YCS",
        "outputId": "d7aed3a1-91a4-46a3-9bf5-485da79a62a2"
      },
      "execution_count": 72,
      "outputs": [
        {
          "output_type": "stream",
          "name": "stdout",
          "text": [
            "\n",
            "--- 12. Heatmap Korelasi Antar Kolom Numerik ---\n"
          ]
        },
        {
          "output_type": "display_data",
          "data": {
            "text/plain": [
              "<Figure size 1200x800 with 2 Axes>"
            ],
            "image/png": "[encoded data removed]"
          },
          "metadata": {}
        }
      ]
    },
    {
      "cell_type": "code",
      "source": [
        "corr = df[\"Patient Waittime\"].corr(df[\"Patient Satisfaction Score\"])\n",
        "print(\"Korelasi antara waktu tunggu dan kepuasan pasien:\", round(corr, 2))\n",
        "\n",
        "# grafik\n",
        "plt.scatter(df[\"Patient Waittime\"], df[\"Patient Satisfaction Score\"], color=\"blue\")\n",
        "plt.title(\"Hubungan Waktu Tunggu dan Kepuasan Pasien\")\n",
        "plt.xlabel(\"Waktu Tunggu (menit)\")\n",
        "plt.ylabel(\"Skor Kepuasan\")\n",
        "plt.show()"
      ],
      "metadata": {
        "colab": {
          "base_uri": "https://localhost:8080/",
          "height": 489
        },
        "id": "R7ghlhQq6nMJ",
        "outputId": "6f5a2264-40bb-4c9b-f065-537b65ce6976"
      },
      "execution_count": 74,
      "outputs": [
        {
          "output_type": "stream",
          "name": "stdout",
          "text": [
            "Korelasi antara waktu tunggu dan kepuasan pasien: -0.01\n"
          ]
        },
        {
          "output_type": "display_data",
          "data": {
            "text/plain": [
              "<Figure size 640x480 with 1 Axes>"
            ],
            "image/png": "[encoded data removed]"
          },
          "metadata": {}
        }
      ]
    },
    {
      "cell_type": "code",
      "source": [],
      "metadata": {
        "id": "2bXqrqmE71xC"
      },
      "execution_count": null,
      "outputs": []
    }
  ]
}